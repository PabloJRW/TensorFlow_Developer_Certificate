{
  "nbformat": 4,
  "nbformat_minor": 0,
  "metadata": {
    "colab": {
      "provenance": [],
      "authorship_tag": "ABX9TyMII6GUSFrozw/8MFprCfvp",
      "include_colab_link": true
    },
    "kernelspec": {
      "name": "python3",
      "display_name": "Python 3"
    },
    "language_info": {
      "name": "python"
    }
  },
  "cells": [
    {
      "cell_type": "markdown",
      "metadata": {
        "id": "view-in-github",
        "colab_type": "text"
      },
      "source": [
        "<a href=\"https://colab.research.google.com/github/PabloJRW/TensorFlow_Developer_Certificate/blob/main/Neural_Network_Regression_With_Tensorflow.ipynb\" target=\"_parent\"><img src=\"https://colab.research.google.com/assets/colab-badge.svg\" alt=\"Open In Colab\"/></a>"
      ]
    },
    {
      "cell_type": "code",
      "execution_count": 1,
      "metadata": {
        "colab": {
          "base_uri": "https://localhost:8080/"
        },
        "id": "VQBZLxVwgGT-",
        "outputId": "29442932-fa2c-479a-88be-9a0cb6d883ab"
      },
      "outputs": [
        {
          "output_type": "stream",
          "name": "stdout",
          "text": [
            "2.9.2\n"
          ]
        }
      ],
      "source": [
        "import tensorflow as tf\n",
        "print(tf.__version__)"
      ]
    },
    {
      "cell_type": "markdown",
      "source": [
        "## Creating data to view and fit"
      ],
      "metadata": {
        "id": "FeDv-HXNmjHN"
      }
    },
    {
      "cell_type": "code",
      "source": [
        "import numpy as np\n",
        "import matplotlib.pyplot as plt"
      ],
      "metadata": {
        "id": "AnBMxspJlxvu"
      },
      "execution_count": 2,
      "outputs": []
    },
    {
      "cell_type": "code",
      "source": [
        "# Create features\n",
        "X = np.array([-7, -4, -1, 2, 5, 8, 11, 14 ])\n",
        "\n",
        "# Create labels\n",
        "y = np.array([3, 6, 9, 12, 15, 18, 21, 24])\n",
        "\n",
        "# Visualize it\n",
        "plt.scatter(X, y)\n",
        "plt.show()"
      ],
      "metadata": {
        "colab": {
          "base_uri": "https://localhost:8080/",
          "height": 269
        },
        "id": "xJ7DrRnGmZk8",
        "outputId": "04909cba-47cf-4274-80be-d17d7e889aea"
      },
      "execution_count": 3,
      "outputs": [
        {
          "output_type": "display_data",
          "data": {
            "text/plain": [
              "<Figure size 432x288 with 1 Axes>"
            ],
            "image/png": "[encoded data removed]"
          },
          "metadata": {
            "needs_background": "light"
          }
        }
      ]
    },
    {
      "cell_type": "markdown",
      "source": [
        "## Input and output shapes"
      ],
      "metadata": {
        "id": "wpiEZyMDnrnc"
      }
    },
    {
      "cell_type": "code",
      "source": [
        "# Create a demo for our housing price prediction problem \n",
        "house_info = tf.constant([\"bedroom\",\"bathroom\",\"garage\"])\n",
        "house_price = tf.constant([939700])\n",
        "house_info, house_price"
      ],
      "metadata": {
        "colab": {
          "base_uri": "https://localhost:8080/"
        },
        "id": "pbzBV5fmnSoN",
        "outputId": "ffbf31ee-bd20-49b5-c04c-4d1b33e3cca7"
      },
      "execution_count": 4,
      "outputs": [
        {
          "output_type": "execute_result",
          "data": {
            "text/plain": [
              "(<tf.Tensor: shape=(3,), dtype=string, numpy=array([b'bedroom', b'bathroom', b'garage'], dtype=object)>,\n",
              " <tf.Tensor: shape=(1,), dtype=int32, numpy=array([939700], dtype=int32)>)"
            ]
          },
          "metadata": {},
          "execution_count": 4
        }
      ]
    },
    {
      "cell_type": "code",
      "source": [
        "input_shape = X.shape\n",
        "output_shape = y.shape\n",
        "input_shape, output_shape"
      ],
      "metadata": {
        "colab": {
          "base_uri": "https://localhost:8080/"
        },
        "id": "ohVp-7UvoCGK",
        "outputId": "04fa47a1-5938-48a0-e3ac-eb6cdf0b3481"
      },
      "execution_count": 5,
      "outputs": [
        {
          "output_type": "execute_result",
          "data": {
            "text/plain": [
              "((8,), (8,))"
            ]
          },
          "metadata": {},
          "execution_count": 5
        }
      ]
    },
    {
      "cell_type": "code",
      "source": [
        "# Turn our numpy arrays to tensors\n",
        "X = tf.cast(tf.constant(X), dtype=tf.float32)\n",
        "y = tf.cast(tf.constant(y), dtype=tf.float32)\n",
        "X, y"
      ],
      "metadata": {
        "colab": {
          "base_uri": "https://localhost:8080/"
        },
        "id": "j5ByDFWnotV8",
        "outputId": "85dff127-db06-4919-9be1-b9624f9ebad8"
      },
      "execution_count": 6,
      "outputs": [
        {
          "output_type": "execute_result",
          "data": {
            "text/plain": [
              "(<tf.Tensor: shape=(8,), dtype=float32, numpy=array([-7., -4., -1.,  2.,  5.,  8., 11., 14.], dtype=float32)>,\n",
              " <tf.Tensor: shape=(8,), dtype=float32, numpy=array([ 3.,  6.,  9., 12., 15., 18., 21., 24.], dtype=float32)>)"
            ]
          },
          "metadata": {},
          "execution_count": 6
        }
      ]
    },
    {
      "cell_type": "markdown",
      "source": [
        "## Steps in modelling ith Tensorflow\n",
        "\n",
        "1. **Creating a model** - define the input and output layers, as well as the hidden layers of a deep learning model.\n",
        "2. **Compiling the model** - define the loss function (in other words, the function which tells our model how wrong it is) and the optimizer (tells our model how to imporve the patterns its learning) and evaluation metrics (what we can use to interprete the performance of our model).\n",
        "3. **Fitting the model** - letting the model try to find patterns between X & y (features and labels)."
      ],
      "metadata": {
        "id": "fImmsN24yvWp"
      }
    },
    {
      "cell_type": "code",
      "source": [
        "# Set random seed \n",
        "tf.random.set_seed(42)\n",
        "\n",
        "# 1. Create a model using Seuential API\n",
        "model = tf.keras.Sequential()\n",
        "model.add(tf.keras.layers.Dense(1)) \n",
        "\n",
        "# 2. Compile the model\n",
        "model.compile(loss=tf.keras.losses.mae, \n",
        "              optimizer=tf.keras.optimizers.SGD(), \n",
        "              metrics=[\"mae\"])\n",
        "\n",
        "# 3. Fit the model\n",
        "model.fit(tf.expand_dims(X, axis=-1), y, epochs=5)"
      ],
      "metadata": {
        "colab": {
          "base_uri": "https://localhost:8080/"
        },
        "id": "MM3HA-qHv1nB",
        "outputId": "5af17e78-dd57-4aa1-c794-5e5190ac52df"
      },
      "execution_count": 7,
      "outputs": [
        {
          "output_type": "stream",
          "name": "stdout",
          "text": [
            "Epoch 1/5\n",
            "1/1 [==============================] - 1s 849ms/step - loss: 11.5048 - mae: 11.5048\n",
            "Epoch 2/5\n",
            "1/1 [==============================] - 0s 11ms/step - loss: 11.3723 - mae: 11.3723\n",
            "Epoch 3/5\n",
            "1/1 [==============================] - 0s 14ms/step - loss: 11.2398 - mae: 11.2398\n",
            "Epoch 4/5\n",
            "1/1 [==============================] - 0s 11ms/step - loss: 11.1073 - mae: 11.1073\n",
            "Epoch 5/5\n",
            "1/1 [==============================] - 0s 16ms/step - loss: 10.9748 - mae: 10.9748\n"
          ]
        },
        {
          "output_type": "execute_result",
          "data": {
            "text/plain": [
              "<keras.callbacks.History at 0x7fb70e0ad040>"
            ]
          },
          "metadata": {},
          "execution_count": 7
        }
      ]
    },
    {
      "cell_type": "code",
      "source": [
        "# Check out X and y\n",
        "X, y"
      ],
      "metadata": {
        "id": "ALS-PEg01tXV",
        "colab": {
          "base_uri": "https://localhost:8080/"
        },
        "outputId": "b50b3a1e-cde8-4992-f478-d31655735cda"
      },
      "execution_count": 8,
      "outputs": [
        {
          "output_type": "execute_result",
          "data": {
            "text/plain": [
              "(<tf.Tensor: shape=(8,), dtype=float32, numpy=array([-7., -4., -1.,  2.,  5.,  8., 11., 14.], dtype=float32)>,\n",
              " <tf.Tensor: shape=(8,), dtype=float32, numpy=array([ 3.,  6.,  9., 12., 15., 18., 21., 24.], dtype=float32)>)"
            ]
          },
          "metadata": {},
          "execution_count": 8
        }
      ]
    },
    {
      "cell_type": "code",
      "source": [
        "# Try and make a prediction using our model\n",
        "y_pred = model.predict([17.0])\n",
        "y_pred"
      ],
      "metadata": {
        "colab": {
          "base_uri": "https://localhost:8080/"
        },
        "id": "kn6GZ5zX5vVV",
        "outputId": "0b94f526-c114-4977-ac3d-ff8cd2fb0ff4"
      },
      "execution_count": 9,
      "outputs": [
        {
          "output_type": "stream",
          "name": "stdout",
          "text": [
            "1/1 [==============================] - 0s 180ms/step\n"
          ]
        },
        {
          "output_type": "execute_result",
          "data": {
            "text/plain": [
              "array([[12.716021]], dtype=float32)"
            ]
          },
          "metadata": {},
          "execution_count": 9
        }
      ]
    },
    {
      "cell_type": "markdown",
      "source": [
        "## Improving our model\n",
        "\n",
        "We can improve the model, by altering the steps we took to create a model.\n",
        "\n",
        "1. **Creating a model** - here we might add more layers, increase the number of hidden units (all called neurons) within each of the hidden layers, change the activation function of each layer.\n",
        "2. **Compiling the model** - here we might change the optimization function or perhaps the learning rate of activation function.\n",
        "3. **Fitting the model** - here we might fit the model for more epochs (leave it training for longer) or on more data to learn from."
      ],
      "metadata": {
        "id": "KWJuGJ3S6cSf"
      }
    },
    {
      "cell_type": "code",
      "source": [
        "# Let's rebuild our model\n",
        "\n",
        "# 1. Create the model\n",
        "model = tf.keras.Sequential([\n",
        "    tf.keras.layers.Dense(50, activation=\"relu\"),\n",
        "    tf.keras.layers.Dense(1)\n",
        "]) \n",
        "\n",
        "# 2. Compile the model\n",
        "model.compile(loss=tf.keras.losses.mae,\n",
        "              optimizer=tf.keras.optimizers.Adam(learning_rate=0.01),\n",
        "              metrics=[\"mae\"])\n",
        "\n",
        "# 3. Fit the model (this time we'll train for longer)\n",
        "model.fit(tf.expand_dims(X, axis=-1), y, epochs=200)"
      ],
      "metadata": {
        "colab": {
          "base_uri": "https://localhost:8080/"
        },
        "id": "-O3arbd555wf",
        "outputId": "ac8cc7e7-b5a1-43b4-e721-e735bb1113cf"
      },
      "execution_count": 10,
      "outputs": [
        {
          "output_type": "stream",
          "name": "stdout",
          "text": [
            "Epoch 1/200\n",
            "1/1 [==============================] - 1s 1s/step - loss: 15.2829 - mae: 15.2829\n",
            "Epoch 2/200\n",
            "1/1 [==============================] - 0s 19ms/step - loss: 14.5987 - mae: 14.5987\n",
            "Epoch 3/200\n",
            "1/1 [==============================] - 0s 23ms/step - loss: 13.9060 - mae: 13.9060\n",
            "Epoch 4/200\n",
            "1/1 [==============================] - 0s 16ms/step - loss: 13.2340 - mae: 13.2340\n",
            "Epoch 5/200\n",
            "1/1 [==============================] - 0s 10ms/step - loss: 12.5730 - mae: 12.5730\n",
            "Epoch 6/200\n",
            "1/1 [==============================] - 0s 23ms/step - loss: 11.9168 - mae: 11.9168\n",
            "Epoch 7/200\n",
            "1/1 [==============================] - 0s 15ms/step - loss: 11.2602 - mae: 11.2602\n",
            "Epoch 8/200\n",
            "1/1 [==============================] - 0s 19ms/step - loss: 10.6017 - mae: 10.6017\n",
            "Epoch 9/200\n",
            "1/1 [==============================] - 0s 27ms/step - loss: 9.9606 - mae: 9.9606\n",
            "Epoch 10/200\n",
            "1/1 [==============================] - 0s 23ms/step - loss: 9.3868 - mae: 9.3868\n",
            "Epoch 11/200\n",
            "1/1 [==============================] - 0s 11ms/step - loss: 8.8019 - mae: 8.8019\n",
            "Epoch 12/200\n",
            "1/1 [==============================] - 0s 23ms/step - loss: 8.2092 - mae: 8.2092\n",
            "Epoch 13/200\n",
            "1/1 [==============================] - 0s 14ms/step - loss: 7.6093 - mae: 7.6093\n",
            "Epoch 14/200\n",
            "1/1 [==============================] - 0s 33ms/step - loss: 7.0003 - mae: 7.0003\n",
            "Epoch 15/200\n",
            "1/1 [==============================] - 0s 13ms/step - loss: 6.3821 - mae: 6.3821\n",
            "Epoch 16/200\n",
            "1/1 [==============================] - 0s 15ms/step - loss: 5.7483 - mae: 5.7483\n",
            "Epoch 17/200\n",
            "1/1 [==============================] - 0s 10ms/step - loss: 5.0986 - mae: 5.0986\n",
            "Epoch 18/200\n",
            "1/1 [==============================] - 0s 12ms/step - loss: 4.4344 - mae: 4.4344\n",
            "Epoch 19/200\n",
            "1/1 [==============================] - 0s 34ms/step - loss: 3.8905 - mae: 3.8905\n",
            "Epoch 20/200\n",
            "1/1 [==============================] - 0s 13ms/step - loss: 3.6719 - mae: 3.6719\n",
            "Epoch 21/200\n",
            "1/1 [==============================] - 0s 12ms/step - loss: 3.7981 - mae: 3.7981\n",
            "Epoch 22/200\n",
            "1/1 [==============================] - 0s 10ms/step - loss: 3.9141 - mae: 3.9141\n",
            "Epoch 23/200\n",
            "1/1 [==============================] - 0s 12ms/step - loss: 4.1036 - mae: 4.1036\n",
            "Epoch 24/200\n",
            "1/1 [==============================] - 0s 23ms/step - loss: 4.3248 - mae: 4.3248\n",
            "Epoch 25/200\n",
            "1/1 [==============================] - 0s 11ms/step - loss: 4.4721 - mae: 4.4721\n",
            "Epoch 26/200\n",
            "1/1 [==============================] - 0s 14ms/step - loss: 4.5529 - mae: 4.5529\n",
            "Epoch 27/200\n",
            "1/1 [==============================] - 0s 14ms/step - loss: 4.5741 - mae: 4.5741\n",
            "Epoch 28/200\n",
            "1/1 [==============================] - 0s 8ms/step - loss: 4.5437 - mae: 4.5437\n",
            "Epoch 29/200\n",
            "1/1 [==============================] - 0s 21ms/step - loss: 4.4708 - mae: 4.4708\n",
            "Epoch 30/200\n",
            "1/1 [==============================] - 0s 24ms/step - loss: 4.3566 - mae: 4.3566\n",
            "Epoch 31/200\n",
            "1/1 [==============================] - 0s 24ms/step - loss: 4.2072 - mae: 4.2072\n",
            "Epoch 32/200\n",
            "1/1 [==============================] - 0s 17ms/step - loss: 4.0287 - mae: 4.0287\n",
            "Epoch 33/200\n",
            "1/1 [==============================] - 0s 17ms/step - loss: 3.8275 - mae: 3.8275\n",
            "Epoch 34/200\n",
            "1/1 [==============================] - 0s 16ms/step - loss: 3.7290 - mae: 3.7290\n",
            "Epoch 35/200\n",
            "1/1 [==============================] - 0s 13ms/step - loss: 3.6418 - mae: 3.6418\n",
            "Epoch 36/200\n",
            "1/1 [==============================] - 0s 15ms/step - loss: 3.5548 - mae: 3.5548\n",
            "Epoch 37/200\n",
            "1/1 [==============================] - 0s 17ms/step - loss: 3.4677 - mae: 3.4677\n",
            "Epoch 38/200\n",
            "1/1 [==============================] - 0s 13ms/step - loss: 3.4263 - mae: 3.4263\n",
            "Epoch 39/200\n",
            "1/1 [==============================] - 0s 18ms/step - loss: 3.4684 - mae: 3.4684\n",
            "Epoch 40/200\n",
            "1/1 [==============================] - 0s 20ms/step - loss: 3.4887 - mae: 3.4887\n",
            "Epoch 41/200\n",
            "1/1 [==============================] - 0s 11ms/step - loss: 3.4861 - mae: 3.4861\n",
            "Epoch 42/200\n",
            "1/1 [==============================] - 0s 25ms/step - loss: 3.4698 - mae: 3.4698\n",
            "Epoch 43/200\n",
            "1/1 [==============================] - 0s 22ms/step - loss: 3.4352 - mae: 3.4352\n",
            "Epoch 44/200\n",
            "1/1 [==============================] - 0s 27ms/step - loss: 3.3837 - mae: 3.3837\n",
            "Epoch 45/200\n",
            "1/1 [==============================] - 0s 24ms/step - loss: 3.3460 - mae: 3.3460\n",
            "Epoch 46/200\n",
            "1/1 [==============================] - 0s 26ms/step - loss: 3.2872 - mae: 3.2872\n",
            "Epoch 47/200\n",
            "1/1 [==============================] - 0s 15ms/step - loss: 3.1956 - mae: 3.1956\n",
            "Epoch 48/200\n",
            "1/1 [==============================] - 0s 21ms/step - loss: 3.0941 - mae: 3.0941\n",
            "Epoch 49/200\n",
            "1/1 [==============================] - 0s 12ms/step - loss: 3.0961 - mae: 3.0961\n",
            "Epoch 50/200\n",
            "1/1 [==============================] - 0s 13ms/step - loss: 3.0872 - mae: 3.0872\n",
            "Epoch 51/200\n",
            "1/1 [==============================] - 0s 51ms/step - loss: 3.0678 - mae: 3.0678\n",
            "Epoch 52/200\n",
            "1/1 [==============================] - 0s 20ms/step - loss: 3.0397 - mae: 3.0397\n",
            "Epoch 53/200\n",
            "1/1 [==============================] - 0s 28ms/step - loss: 3.0037 - mae: 3.0037\n",
            "Epoch 54/200\n",
            "1/1 [==============================] - 0s 25ms/step - loss: 2.9598 - mae: 2.9598\n",
            "Epoch 55/200\n",
            "1/1 [==============================] - 0s 66ms/step - loss: 2.9105 - mae: 2.9105\n",
            "Epoch 56/200\n",
            "1/1 [==============================] - 0s 11ms/step - loss: 2.8553 - mae: 2.8553\n",
            "Epoch 57/200\n",
            "1/1 [==============================] - 0s 10ms/step - loss: 2.7923 - mae: 2.7923\n",
            "Epoch 58/200\n",
            "1/1 [==============================] - 0s 14ms/step - loss: 2.7808 - mae: 2.7808\n",
            "Epoch 59/200\n",
            "1/1 [==============================] - 0s 10ms/step - loss: 2.7539 - mae: 2.7539\n",
            "Epoch 60/200\n",
            "1/1 [==============================] - 0s 20ms/step - loss: 2.7035 - mae: 2.7035\n",
            "Epoch 61/200\n",
            "1/1 [==============================] - 0s 18ms/step - loss: 2.6300 - mae: 2.6300\n",
            "Epoch 62/200\n",
            "1/1 [==============================] - 0s 14ms/step - loss: 2.5648 - mae: 2.5648\n",
            "Epoch 63/200\n",
            "1/1 [==============================] - 0s 9ms/step - loss: 2.5301 - mae: 2.5301\n",
            "Epoch 64/200\n",
            "1/1 [==============================] - 0s 10ms/step - loss: 2.4835 - mae: 2.4835\n",
            "Epoch 65/200\n",
            "1/1 [==============================] - 0s 9ms/step - loss: 2.4269 - mae: 2.4269\n",
            "Epoch 66/200\n",
            "1/1 [==============================] - 0s 7ms/step - loss: 2.3609 - mae: 2.3609\n",
            "Epoch 67/200\n",
            "1/1 [==============================] - 0s 15ms/step - loss: 2.2857 - mae: 2.2857\n",
            "Epoch 68/200\n",
            "1/1 [==============================] - 0s 19ms/step - loss: 2.1958 - mae: 2.1958\n",
            "Epoch 69/200\n",
            "1/1 [==============================] - 0s 17ms/step - loss: 2.1513 - mae: 2.1513\n",
            "Epoch 70/200\n",
            "1/1 [==============================] - 0s 31ms/step - loss: 2.0759 - mae: 2.0759\n",
            "Epoch 71/200\n",
            "1/1 [==============================] - 0s 59ms/step - loss: 1.9756 - mae: 1.9756\n",
            "Epoch 72/200\n",
            "1/1 [==============================] - 0s 9ms/step - loss: 1.9682 - mae: 1.9682\n",
            "Epoch 73/200\n",
            "1/1 [==============================] - 0s 11ms/step - loss: 1.9008 - mae: 1.9008\n",
            "Epoch 74/200\n",
            "1/1 [==============================] - 0s 11ms/step - loss: 1.7930 - mae: 1.7930\n",
            "Epoch 75/200\n",
            "1/1 [==============================] - 0s 23ms/step - loss: 1.7060 - mae: 1.7060\n",
            "Epoch 76/200\n",
            "1/1 [==============================] - 0s 19ms/step - loss: 1.6066 - mae: 1.6066\n",
            "Epoch 77/200\n",
            "1/1 [==============================] - 0s 33ms/step - loss: 1.5100 - mae: 1.5100\n",
            "Epoch 78/200\n",
            "1/1 [==============================] - 0s 27ms/step - loss: 1.4270 - mae: 1.4270\n",
            "Epoch 79/200\n",
            "1/1 [==============================] - 0s 18ms/step - loss: 1.3568 - mae: 1.3568\n",
            "Epoch 80/200\n",
            "1/1 [==============================] - 0s 36ms/step - loss: 1.2781 - mae: 1.2781\n",
            "Epoch 81/200\n",
            "1/1 [==============================] - 0s 11ms/step - loss: 1.1858 - mae: 1.1858\n",
            "Epoch 82/200\n",
            "1/1 [==============================] - 0s 8ms/step - loss: 1.0806 - mae: 1.0806\n",
            "Epoch 83/200\n",
            "1/1 [==============================] - 0s 13ms/step - loss: 0.9823 - mae: 0.9823\n",
            "Epoch 84/200\n",
            "1/1 [==============================] - 0s 22ms/step - loss: 0.8758 - mae: 0.8758\n",
            "Epoch 85/200\n",
            "1/1 [==============================] - 0s 8ms/step - loss: 0.7792 - mae: 0.7792\n",
            "Epoch 86/200\n",
            "1/1 [==============================] - 0s 7ms/step - loss: 0.6756 - mae: 0.6756\n",
            "Epoch 87/200\n",
            "1/1 [==============================] - 0s 18ms/step - loss: 0.5564 - mae: 0.5564\n",
            "Epoch 88/200\n",
            "1/1 [==============================] - 0s 20ms/step - loss: 0.4302 - mae: 0.4302\n",
            "Epoch 89/200\n",
            "1/1 [==============================] - 0s 13ms/step - loss: 0.3026 - mae: 0.3026\n",
            "Epoch 90/200\n",
            "1/1 [==============================] - 0s 13ms/step - loss: 0.2998 - mae: 0.2998\n",
            "Epoch 91/200\n",
            "1/1 [==============================] - 0s 17ms/step - loss: 0.3517 - mae: 0.3517\n",
            "Epoch 92/200\n",
            "1/1 [==============================] - 0s 15ms/step - loss: 0.2922 - mae: 0.2922\n",
            "Epoch 93/200\n",
            "1/1 [==============================] - 0s 17ms/step - loss: 0.3442 - mae: 0.3442\n",
            "Epoch 94/200\n",
            "1/1 [==============================] - 0s 16ms/step - loss: 0.3888 - mae: 0.3888\n",
            "Epoch 95/200\n",
            "1/1 [==============================] - 0s 20ms/step - loss: 0.3982 - mae: 0.3982\n",
            "Epoch 96/200\n",
            "1/1 [==============================] - 0s 28ms/step - loss: 0.3824 - mae: 0.3824\n",
            "Epoch 97/200\n",
            "1/1 [==============================] - 0s 30ms/step - loss: 0.5088 - mae: 0.5088\n",
            "Epoch 98/200\n",
            "1/1 [==============================] - 0s 12ms/step - loss: 0.3754 - mae: 0.3754\n",
            "Epoch 99/200\n",
            "1/1 [==============================] - 0s 10ms/step - loss: 0.4691 - mae: 0.4691\n",
            "Epoch 100/200\n",
            "1/1 [==============================] - 0s 11ms/step - loss: 0.6134 - mae: 0.6134\n",
            "Epoch 101/200\n",
            "1/1 [==============================] - 0s 13ms/step - loss: 0.5706 - mae: 0.5706\n",
            "Epoch 102/200\n",
            "1/1 [==============================] - 0s 18ms/step - loss: 0.3577 - mae: 0.3577\n",
            "Epoch 103/200\n",
            "1/1 [==============================] - 0s 21ms/step - loss: 0.4826 - mae: 0.4826\n",
            "Epoch 104/200\n",
            "1/1 [==============================] - 0s 52ms/step - loss: 0.5340 - mae: 0.5340\n",
            "Epoch 105/200\n",
            "1/1 [==============================] - 0s 19ms/step - loss: 0.4276 - mae: 0.4276\n",
            "Epoch 106/200\n",
            "1/1 [==============================] - 0s 9ms/step - loss: 0.2821 - mae: 0.2821\n",
            "Epoch 107/200\n",
            "1/1 [==============================] - 0s 12ms/step - loss: 0.3619 - mae: 0.3619\n",
            "Epoch 108/200\n",
            "1/1 [==============================] - 0s 23ms/step - loss: 0.3150 - mae: 0.3150\n",
            "Epoch 109/200\n",
            "1/1 [==============================] - 0s 25ms/step - loss: 0.1557 - mae: 0.1557\n",
            "Epoch 110/200\n",
            "1/1 [==============================] - 0s 18ms/step - loss: 0.3586 - mae: 0.3586\n",
            "Epoch 111/200\n",
            "1/1 [==============================] - 0s 16ms/step - loss: 0.4646 - mae: 0.4646\n",
            "Epoch 112/200\n",
            "1/1 [==============================] - 0s 15ms/step - loss: 0.3709 - mae: 0.3709\n",
            "Epoch 113/200\n",
            "1/1 [==============================] - 0s 11ms/step - loss: 0.2175 - mae: 0.2175\n",
            "Epoch 114/200\n",
            "1/1 [==============================] - 0s 17ms/step - loss: 0.4058 - mae: 0.4058\n",
            "Epoch 115/200\n",
            "1/1 [==============================] - 0s 11ms/step - loss: 0.4534 - mae: 0.4534\n",
            "Epoch 116/200\n",
            "1/1 [==============================] - 0s 14ms/step - loss: 0.3107 - mae: 0.3107\n",
            "Epoch 117/200\n",
            "1/1 [==============================] - 0s 14ms/step - loss: 0.2531 - mae: 0.2531\n",
            "Epoch 118/200\n",
            "1/1 [==============================] - 0s 13ms/step - loss: 0.4120 - mae: 0.4120\n",
            "Epoch 119/200\n",
            "1/1 [==============================] - 0s 12ms/step - loss: 0.4009 - mae: 0.4009\n",
            "Epoch 120/200\n",
            "1/1 [==============================] - 0s 22ms/step - loss: 0.2263 - mae: 0.2263\n",
            "Epoch 121/200\n",
            "1/1 [==============================] - 0s 34ms/step - loss: 0.2603 - mae: 0.2603\n",
            "Epoch 122/200\n",
            "1/1 [==============================] - 0s 23ms/step - loss: 0.3337 - mae: 0.3337\n",
            "Epoch 123/200\n",
            "1/1 [==============================] - 0s 39ms/step - loss: 0.2292 - mae: 0.2292\n",
            "Epoch 124/200\n",
            "1/1 [==============================] - 0s 16ms/step - loss: 0.1559 - mae: 0.1559\n",
            "Epoch 125/200\n",
            "1/1 [==============================] - 0s 23ms/step - loss: 0.2876 - mae: 0.2876\n",
            "Epoch 126/200\n",
            "1/1 [==============================] - 0s 13ms/step - loss: 0.2191 - mae: 0.2191\n",
            "Epoch 127/200\n",
            "1/1 [==============================] - 0s 10ms/step - loss: 0.1681 - mae: 0.1681\n",
            "Epoch 128/200\n",
            "1/1 [==============================] - 0s 12ms/step - loss: 0.1715 - mae: 0.1715\n",
            "Epoch 129/200\n",
            "1/1 [==============================] - 0s 13ms/step - loss: 0.1110 - mae: 0.1110\n",
            "Epoch 130/200\n",
            "1/1 [==============================] - 0s 9ms/step - loss: 0.1578 - mae: 0.1578\n",
            "Epoch 131/200\n",
            "1/1 [==============================] - 0s 14ms/step - loss: 0.1216 - mae: 0.1216\n",
            "Epoch 132/200\n",
            "1/1 [==============================] - 0s 10ms/step - loss: 0.1976 - mae: 0.1976\n",
            "Epoch 133/200\n",
            "1/1 [==============================] - 0s 11ms/step - loss: 0.1614 - mae: 0.1614\n",
            "Epoch 134/200\n",
            "1/1 [==============================] - 0s 28ms/step - loss: 0.1124 - mae: 0.1124\n",
            "Epoch 135/200\n",
            "1/1 [==============================] - 0s 17ms/step - loss: 0.1841 - mae: 0.1841\n",
            "Epoch 136/200\n",
            "1/1 [==============================] - 0s 8ms/step - loss: 0.1171 - mae: 0.1171\n",
            "Epoch 137/200\n",
            "1/1 [==============================] - 0s 7ms/step - loss: 0.1581 - mae: 0.1581\n",
            "Epoch 138/200\n",
            "1/1 [==============================] - 0s 11ms/step - loss: 0.0817 - mae: 0.0817\n",
            "Epoch 139/200\n",
            "1/1 [==============================] - 0s 14ms/step - loss: 0.1902 - mae: 0.1902\n",
            "Epoch 140/200\n",
            "1/1 [==============================] - 0s 16ms/step - loss: 0.2250 - mae: 0.2250\n",
            "Epoch 141/200\n",
            "1/1 [==============================] - 0s 17ms/step - loss: 0.0992 - mae: 0.0992\n",
            "Epoch 142/200\n",
            "1/1 [==============================] - 0s 39ms/step - loss: 0.2107 - mae: 0.2107\n",
            "Epoch 143/200\n",
            "1/1 [==============================] - 0s 36ms/step - loss: 0.2589 - mae: 0.2589\n",
            "Epoch 144/200\n",
            "1/1 [==============================] - 0s 21ms/step - loss: 0.1660 - mae: 0.1660\n",
            "Epoch 145/200\n",
            "1/1 [==============================] - 0s 24ms/step - loss: 0.1395 - mae: 0.1395\n",
            "Epoch 146/200\n",
            "1/1 [==============================] - 0s 10ms/step - loss: 0.2052 - mae: 0.2052\n",
            "Epoch 147/200\n",
            "1/1 [==============================] - 0s 23ms/step - loss: 0.1425 - mae: 0.1425\n",
            "Epoch 148/200\n",
            "1/1 [==============================] - 0s 29ms/step - loss: 0.1831 - mae: 0.1831\n",
            "Epoch 149/200\n",
            "1/1 [==============================] - 0s 20ms/step - loss: 0.2004 - mae: 0.2004\n",
            "Epoch 150/200\n",
            "1/1 [==============================] - 0s 28ms/step - loss: 0.1179 - mae: 0.1179\n",
            "Epoch 151/200\n",
            "1/1 [==============================] - 0s 19ms/step - loss: 0.2147 - mae: 0.2147\n",
            "Epoch 152/200\n",
            "1/1 [==============================] - 0s 50ms/step - loss: 0.2549 - mae: 0.2549\n",
            "Epoch 153/200\n",
            "1/1 [==============================] - 0s 14ms/step - loss: 0.1355 - mae: 0.1355\n",
            "Epoch 154/200\n",
            "1/1 [==============================] - 0s 13ms/step - loss: 0.1403 - mae: 0.1403\n",
            "Epoch 155/200\n",
            "1/1 [==============================] - 0s 18ms/step - loss: 0.1760 - mae: 0.1760\n",
            "Epoch 156/200\n",
            "1/1 [==============================] - 0s 37ms/step - loss: 0.0914 - mae: 0.0914\n",
            "Epoch 157/200\n",
            "1/1 [==============================] - 0s 26ms/step - loss: 0.2025 - mae: 0.2025\n",
            "Epoch 158/200\n",
            "1/1 [==============================] - 0s 21ms/step - loss: 0.2428 - mae: 0.2428\n",
            "Epoch 159/200\n",
            "1/1 [==============================] - 0s 27ms/step - loss: 0.1399 - mae: 0.1399\n",
            "Epoch 160/200\n",
            "1/1 [==============================] - 0s 23ms/step - loss: 0.1448 - mae: 0.1448\n",
            "Epoch 161/200\n",
            "1/1 [==============================] - 0s 19ms/step - loss: 0.1804 - mae: 0.1804\n",
            "Epoch 162/200\n",
            "1/1 [==============================] - 0s 20ms/step - loss: 0.0886 - mae: 0.0886\n",
            "Epoch 163/200\n",
            "1/1 [==============================] - 0s 13ms/step - loss: 0.1820 - mae: 0.1820\n",
            "Epoch 164/200\n",
            "1/1 [==============================] - 0s 22ms/step - loss: 0.2178 - mae: 0.2178\n",
            "Epoch 165/200\n",
            "1/1 [==============================] - 0s 22ms/step - loss: 0.1038 - mae: 0.1038\n",
            "Epoch 166/200\n",
            "1/1 [==============================] - 0s 19ms/step - loss: 0.1556 - mae: 0.1556\n",
            "Epoch 167/200\n",
            "1/1 [==============================] - 0s 21ms/step - loss: 0.1991 - mae: 0.1991\n",
            "Epoch 168/200\n",
            "1/1 [==============================] - 0s 14ms/step - loss: 0.1268 - mae: 0.1268\n",
            "Epoch 169/200\n",
            "1/1 [==============================] - 0s 21ms/step - loss: 0.1620 - mae: 0.1620\n",
            "Epoch 170/200\n",
            "1/1 [==============================] - 0s 24ms/step - loss: 0.1897 - mae: 0.1897\n",
            "Epoch 171/200\n",
            "1/1 [==============================] - 0s 19ms/step - loss: 0.1032 - mae: 0.1032\n",
            "Epoch 172/200\n",
            "1/1 [==============================] - 0s 23ms/step - loss: 0.1388 - mae: 0.1388\n",
            "Epoch 173/200\n",
            "1/1 [==============================] - 0s 18ms/step - loss: 0.1440 - mae: 0.1440\n",
            "Epoch 174/200\n",
            "1/1 [==============================] - 0s 18ms/step - loss: 0.0421 - mae: 0.0421\n",
            "Epoch 175/200\n",
            "1/1 [==============================] - 0s 22ms/step - loss: 0.0898 - mae: 0.0898\n",
            "Epoch 176/200\n",
            "1/1 [==============================] - 0s 13ms/step - loss: 0.0397 - mae: 0.0397\n",
            "Epoch 177/200\n",
            "1/1 [==============================] - 0s 13ms/step - loss: 0.0813 - mae: 0.0813\n",
            "Epoch 178/200\n",
            "1/1 [==============================] - 0s 20ms/step - loss: 0.0371 - mae: 0.0371\n",
            "Epoch 179/200\n",
            "1/1 [==============================] - 0s 8ms/step - loss: 0.0866 - mae: 0.0866\n",
            "Epoch 180/200\n",
            "1/1 [==============================] - 0s 36ms/step - loss: 0.0623 - mae: 0.0623\n",
            "Epoch 181/200\n",
            "1/1 [==============================] - 0s 26ms/step - loss: 0.1053 - mae: 0.1053\n",
            "Epoch 182/200\n",
            "1/1 [==============================] - 0s 20ms/step - loss: 0.0807 - mae: 0.0807\n",
            "Epoch 183/200\n",
            "1/1 [==============================] - 0s 13ms/step - loss: 0.1028 - mae: 0.1028\n",
            "Epoch 184/200\n",
            "1/1 [==============================] - 0s 8ms/step - loss: 0.1065 - mae: 0.1065\n",
            "Epoch 185/200\n",
            "1/1 [==============================] - 0s 7ms/step - loss: 0.0595 - mae: 0.0595\n",
            "Epoch 186/200\n",
            "1/1 [==============================] - 0s 9ms/step - loss: 0.0561 - mae: 0.0561\n",
            "Epoch 187/200\n",
            "1/1 [==============================] - 0s 18ms/step - loss: 0.1111 - mae: 0.1111\n",
            "Epoch 188/200\n",
            "1/1 [==============================] - 0s 19ms/step - loss: 0.1395 - mae: 0.1395\n",
            "Epoch 189/200\n",
            "1/1 [==============================] - 0s 13ms/step - loss: 0.0550 - mae: 0.0550\n",
            "Epoch 190/200\n",
            "1/1 [==============================] - 0s 17ms/step - loss: 0.1505 - mae: 0.1505\n",
            "Epoch 191/200\n",
            "1/1 [==============================] - 0s 35ms/step - loss: 0.1378 - mae: 0.1378\n",
            "Epoch 192/200\n",
            "1/1 [==============================] - 0s 15ms/step - loss: 0.0466 - mae: 0.0466\n",
            "Epoch 193/200\n",
            "1/1 [==============================] - 0s 13ms/step - loss: 0.1147 - mae: 0.1147\n",
            "Epoch 194/200\n",
            "1/1 [==============================] - 0s 13ms/step - loss: 0.0357 - mae: 0.0357\n",
            "Epoch 195/200\n",
            "1/1 [==============================] - 0s 31ms/step - loss: 0.1819 - mae: 0.1819\n",
            "Epoch 196/200\n",
            "1/1 [==============================] - 0s 31ms/step - loss: 0.2046 - mae: 0.2046\n",
            "Epoch 197/200\n",
            "1/1 [==============================] - 0s 46ms/step - loss: 0.0748 - mae: 0.0748\n",
            "Epoch 198/200\n",
            "1/1 [==============================] - 0s 26ms/step - loss: 0.1961 - mae: 0.1961\n",
            "Epoch 199/200\n",
            "1/1 [==============================] - 0s 26ms/step - loss: 0.2699 - mae: 0.2699\n",
            "Epoch 200/200\n",
            "1/1 [==============================] - 0s 13ms/step - loss: 0.1865 - mae: 0.1865\n"
          ]
        },
        {
          "output_type": "execute_result",
          "data": {
            "text/plain": [
              "<keras.callbacks.History at 0x7fb70c82a220>"
            ]
          },
          "metadata": {},
          "execution_count": 10
        }
      ]
    },
    {
      "cell_type": "code",
      "source": [
        "# Let's see if our model prediction has improved...\n",
        "model.predict([17.0])"
      ],
      "metadata": {
        "colab": {
          "base_uri": "https://localhost:8080/"
        },
        "id": "LHFxE54z-ds6",
        "outputId": "6d4a2e92-abdb-4be2-964b-8f6ff9bb13de"
      },
      "execution_count": 11,
      "outputs": [
        {
          "output_type": "stream",
          "name": "stdout",
          "text": [
            "1/1 [==============================] - 0s 343ms/step\n"
          ]
        },
        {
          "output_type": "execute_result",
          "data": {
            "text/plain": [
              "array([[26.992025]], dtype=float32)"
            ]
          },
          "metadata": {},
          "execution_count": 11
        }
      ]
    },
    {
      "cell_type": "markdown",
      "source": [
        "### Evaluating the model\n",
        "\n",
        "It's a good idea to visualze:\n",
        "* The data - What data are we working with? What does it look like?\n",
        "* The model itself - What does our model look like?\n",
        "* The training of a model - How does a model perform while it learns?\n",
        "* The predictions of the model - How do the predictions of a model line up against the ground truth"
      ],
      "metadata": {
        "id": "EwxuEUAIhtrq"
      }
    },
    {
      "cell_type": "code",
      "source": [
        "# Make a bigger dataset\n",
        "X = tf.range(-100, 100, 4)\n",
        "X"
      ],
      "metadata": {
        "id": "R59LCp71Aawl",
        "colab": {
          "base_uri": "https://localhost:8080/"
        },
        "outputId": "5a903a5e-f5df-4f87-a0f1-85a3517529f1"
      },
      "execution_count": 12,
      "outputs": [
        {
          "output_type": "execute_result",
          "data": {
            "text/plain": [
              "<tf.Tensor: shape=(50,), dtype=int32, numpy=\n",
              "array([-100,  -96,  -92,  -88,  -84,  -80,  -76,  -72,  -68,  -64,  -60,\n",
              "        -56,  -52,  -48,  -44,  -40,  -36,  -32,  -28,  -24,  -20,  -16,\n",
              "        -12,   -8,   -4,    0,    4,    8,   12,   16,   20,   24,   28,\n",
              "         32,   36,   40,   44,   48,   52,   56,   60,   64,   68,   72,\n",
              "         76,   80,   84,   88,   92,   96], dtype=int32)>"
            ]
          },
          "metadata": {},
          "execution_count": 12
        }
      ]
    },
    {
      "cell_type": "code",
      "source": [
        "# Make labels for the dataset\n",
        "y = X + 10\n",
        "y"
      ],
      "metadata": {
        "colab": {
          "base_uri": "https://localhost:8080/"
        },
        "id": "YymE8Ks3iosn",
        "outputId": "36724e99-222c-4a16-b0a7-6023a45bb0c8"
      },
      "execution_count": 13,
      "outputs": [
        {
          "output_type": "execute_result",
          "data": {
            "text/plain": [
              "<tf.Tensor: shape=(50,), dtype=int32, numpy=\n",
              "array([-90, -86, -82, -78, -74, -70, -66, -62, -58, -54, -50, -46, -42,\n",
              "       -38, -34, -30, -26, -22, -18, -14, -10,  -6,  -2,   2,   6,  10,\n",
              "        14,  18,  22,  26,  30,  34,  38,  42,  46,  50,  54,  58,  62,\n",
              "        66,  70,  74,  78,  82,  86,  90,  94,  98, 102, 106], dtype=int32)>"
            ]
          },
          "metadata": {},
          "execution_count": 13
        }
      ]
    },
    {
      "cell_type": "code",
      "source": [
        "# Visualize the data\n",
        "import matplotlib.pyplot as plt\n",
        "\n",
        "plt.scatter(X, y)\n",
        "plt.show()"
      ],
      "metadata": {
        "colab": {
          "base_uri": "https://localhost:8080/",
          "height": 265
        },
        "id": "zXF3i9s-jHI3",
        "outputId": "a9394b51-19ae-4ff0-e03a-3cd725d8e685"
      },
      "execution_count": 14,
      "outputs": [
        {
          "output_type": "display_data",
          "data": {
            "text/plain": [
              "<Figure size 432x288 with 1 Axes>"
            ],
            "image/png": "[encoded data removed]"
          },
          "metadata": {
            "needs_background": "light"
          }
        }
      ]
    },
    {
      "cell_type": "markdown",
      "source": [
        "### The 3 sets...\n",
        "\n",
        "* **Training set** - the model learns from this data, which is tiopically 70-80% of the of the total data you have available.\n",
        "* **Validation data** - the model gets tuned on this data, which is tipically 10-15% of the data available.\n",
        "* **Test set** - the model gets evaluated on this data to test what is has learned, this set is tipically 10-15% of the total data available."
      ],
      "metadata": {
        "id": "PtFsC5DCjgno"
      }
    },
    {
      "cell_type": "code",
      "source": [
        "# Check the lenght of how many samples we have\n",
        "len(X)"
      ],
      "metadata": {
        "colab": {
          "base_uri": "https://localhost:8080/"
        },
        "id": "QC2hpg-tjQgC",
        "outputId": "6a81eb2e-6dcd-4360-bac7-7b811cd9bb18"
      },
      "execution_count": 15,
      "outputs": [
        {
          "output_type": "execute_result",
          "data": {
            "text/plain": [
              "50"
            ]
          },
          "metadata": {},
          "execution_count": 15
        }
      ]
    },
    {
      "cell_type": "code",
      "source": [
        "# Split the data into train and test sets\n",
        "X_train = X[:40] # First 40 are training samples (80% of the data)\n",
        "y_train = y[:40]\n",
        "\n",
        "X_test = X[40:] # Last 10 are testing samples (20% of the data)\n",
        "y_test = y[40:]\n",
        "\n",
        "len(X_train), len(X_test), len(y_train), len(y_test)"
      ],
      "metadata": {
        "colab": {
          "base_uri": "https://localhost:8080/"
        },
        "id": "pdgObieJk_L6",
        "outputId": "ed5edbc0-df51-4926-e157-6b295e733f85"
      },
      "execution_count": 16,
      "outputs": [
        {
          "output_type": "execute_result",
          "data": {
            "text/plain": [
              "(40, 10, 40, 10)"
            ]
          },
          "metadata": {},
          "execution_count": 16
        }
      ]
    },
    {
      "cell_type": "markdown",
      "source": [
        "### Visualizing the data"
      ],
      "metadata": {
        "id": "iNzQfK3ImG2j"
      }
    },
    {
      "cell_type": "code",
      "source": [
        "plt.scatter(X_train, y_train, c=\"b\", label=\"Training data\")\n",
        "plt.scatter(X_test, y_test, c=\"g\", label=\"Testing data\")\n",
        "plt.legend()\n",
        "plt.show()"
      ],
      "metadata": {
        "colab": {
          "base_uri": "https://localhost:8080/",
          "height": 265
        },
        "id": "NmR2mLGClrfD",
        "outputId": "7b95b156-38b1-406a-9992-7fe22e2d2331"
      },
      "execution_count": 17,
      "outputs": [
        {
          "output_type": "display_data",
          "data": {
            "text/plain": [
              "<Figure size 432x288 with 1 Axes>"
            ],
            "image/png": "[encoded data removed]"
          },
          "metadata": {
            "needs_background": "light"
          }
        }
      ]
    },
    {
      "cell_type": "code",
      "source": [
        "tf.random.set_seed(42)\n",
        "\n",
        "# Let's have a look at how to build a neural network  for our data\n",
        "model = tf.keras.Sequential([\n",
        "    tf.keras.layers.Dense(100, \n",
        "                          activation=\"relu\",\n",
        "                          input_shape=[1],\n",
        "                          name=\"input_layer\"),\n",
        "    tf.keras.layers.Dense(100,\n",
        "                          activation=\"relu\",\n",
        "                          name=\"hidden_layer_1\"),\n",
        "    tf.keras.layers.Dense(100,\n",
        "                          activation=\"relu\",\n",
        "                          name=\"hidden_layer_2\"),\n",
        "    tf.keras.layers.Dense(1,\n",
        "                          name=\"output_layer\")\n",
        "])\n",
        "\n",
        "# 2. Compile the model\n",
        "model.compile(loss=tf.keras.losses.mae,\n",
        "              optimizer=tf.keras.optimizers.Adam(learning_rate=0.001),\n",
        "              metrics=[\"mae\"])\n",
        "\n",
        "# 3. Fit the model\n",
        "model.fit(X_train, y_train, epochs=200, verbose=0)"
      ],
      "metadata": {
        "id": "mzWpTR0Gmlxj",
        "colab": {
          "base_uri": "https://localhost:8080/"
        },
        "outputId": "bbcef80c-811e-496c-f34b-e1651de28d27"
      },
      "execution_count": 18,
      "outputs": [
        {
          "output_type": "execute_result",
          "data": {
            "text/plain": [
              "<keras.callbacks.History at 0x7fb70d9d1640>"
            ]
          },
          "metadata": {},
          "execution_count": 18
        }
      ]
    },
    {
      "cell_type": "code",
      "source": [
        "from tensorflow.keras.utils import plot_model\n",
        "\n",
        "plot_model(model=model, show_shapes=True)"
      ],
      "metadata": {
        "colab": {
          "base_uri": "https://localhost:8080/",
          "height": 533
        },
        "id": "ZziYzVmmz8Ry",
        "outputId": "f72db272-5e94-4b6b-ce2b-7e19e7190c18"
      },
      "execution_count": 19,
      "outputs": [
        {
          "output_type": "execute_result",
          "data": {
            "image/png": "[encoded data removed]",
            "text/plain": [
              "<IPython.core.display.Image object>"
            ]
          },
          "metadata": {},
          "execution_count": 19
        }
      ]
    },
    {
      "cell_type": "markdown",
      "source": [
        "### Visualizing our model's predictions"
      ],
      "metadata": {
        "id": "wmb2dr-h-Yf4"
      }
    },
    {
      "cell_type": "code",
      "source": [
        "# Make some predictions\n",
        "y_pred = model.predict(X_test)\n",
        "y_pred"
      ],
      "metadata": {
        "colab": {
          "base_uri": "https://localhost:8080/"
        },
        "id": "TqqlqwhT848t",
        "outputId": "eed8e11f-949d-4c65-fa9e-1e6b37e48792"
      },
      "execution_count": 20,
      "outputs": [
        {
          "output_type": "stream",
          "name": "stdout",
          "text": [
            "1/1 [==============================] - 0s 139ms/step\n"
          ]
        },
        {
          "output_type": "execute_result",
          "data": {
            "text/plain": [
              "array([[ 72.19445 ],\n",
              "       [ 76.35261 ],\n",
              "       [ 80.52263 ],\n",
              "       [ 84.70795 ],\n",
              "       [ 88.89326 ],\n",
              "       [ 93.07857 ],\n",
              "       [ 97.263885],\n",
              "       [101.47788 ],\n",
              "       [105.7074  ],\n",
              "       [109.936905]], dtype=float32)"
            ]
          },
          "metadata": {},
          "execution_count": 20
        }
      ]
    },
    {
      "cell_type": "code",
      "source": [
        "# Let's create a plotting function\n",
        "def plot_predictions(train_data=X_train,train_labels=y_train,test_data=X_test,test_labels=y_test,predictions=y_pred):\n",
        "  \"\"\"\n",
        "  Plots training data, test data and compares predictions to ground thruth labels\n",
        "  \"\"\"\n",
        "  plt.figure(figsize=(10, 7))\n",
        "  # Plot training data in blue\n",
        "  plt.scatter(train_data, train_labels, c=\"b\", label=\"Training data\")\n",
        "  # Plot testing data in green\n",
        "  plt.scatter(test_data, test_labels, c=\"g\", label=\"Testing data\")\n",
        "  # Plot model's predictions in red\n",
        "  plt.scatter(test_data, predictions, c=\"r\", label=\"Predictions\")\n",
        "  plt.legend()\n",
        "  plt.show()"
      ],
      "metadata": {
        "id": "EeJdTdGp-3CL"
      },
      "execution_count": 21,
      "outputs": []
    },
    {
      "cell_type": "code",
      "source": [
        "plot_predictions()"
      ],
      "metadata": {
        "colab": {
          "base_uri": "https://localhost:8080/",
          "height": 428
        },
        "id": "pZlA-tpsBF42",
        "outputId": "cd05a074-cdf7-4686-c68b-2d948dca80ea"
      },
      "execution_count": 22,
      "outputs": [
        {
          "output_type": "display_data",
          "data": {
            "text/plain": [
              "<Figure size 720x504 with 1 Axes>"
            ],
            "image/png": "[encoded data removed]"
          },
          "metadata": {
            "needs_background": "light"
          }
        }
      ]
    },
    {
      "cell_type": "markdown",
      "source": [
        "### Evaluating our model's predictions with regression evaluation metrics\n",
        "\n",
        "Depending on the problem you're working on, there will be different evaluation metrics to evaluate your model's performance.\n",
        "\n",
        "Since we're working on a regression, two of the main metrics:\n",
        "* **MAE** - mean absolute error, \"on average, how wrong is each of my model's predictions\"\n",
        "* **MSE** - mean squared error, \"square the average erros\""
      ],
      "metadata": {
        "id": "TSRVi8W-D4kh"
      }
    },
    {
      "cell_type": "code",
      "source": [
        "# Evaluate the model on the test set\n",
        "model.evaluate(X_test, y_test)"
      ],
      "metadata": {
        "colab": {
          "base_uri": "https://localhost:8080/"
        },
        "id": "lFchxtLuBr7l",
        "outputId": "ac2a183f-1115-4785-dd24-7c07eb52f61a"
      },
      "execution_count": 23,
      "outputs": [
        {
          "output_type": "stream",
          "name": "stdout",
          "text": [
            "1/1 [==============================] - 1s 640ms/step - loss: 3.0135 - mae: 3.0135\n"
          ]
        },
        {
          "output_type": "execute_result",
          "data": {
            "text/plain": [
              "[3.0135498046875, 3.0135498046875]"
            ]
          },
          "metadata": {},
          "execution_count": 23
        }
      ]
    },
    {
      "cell_type": "code",
      "source": [
        "tf.metrics.mean_absolute_error(y_test, tf.squeeze(y_pred))"
      ],
      "metadata": {
        "colab": {
          "base_uri": "https://localhost:8080/"
        },
        "id": "kLcZeqv8Fqxa",
        "outputId": "411f32c1-6769-4a89-a257-fcacb073b086"
      },
      "execution_count": 24,
      "outputs": [
        {
          "output_type": "execute_result",
          "data": {
            "text/plain": [
              "<tf.Tensor: shape=(), dtype=float32, numpy=3.013553>"
            ]
          },
          "metadata": {},
          "execution_count": 24
        }
      ]
    },
    {
      "cell_type": "code",
      "source": [
        "# Calculate the mean squared error\n",
        "tf.metrics.mean_squared_error(y_test, tf.squeeze(y_pred))"
      ],
      "metadata": {
        "colab": {
          "base_uri": "https://localhost:8080/"
        },
        "id": "U7chRw51GdSb",
        "outputId": "a715ff47-e068-4bbb-d950-c424097b2f5e"
      },
      "execution_count": 25,
      "outputs": [
        {
          "output_type": "execute_result",
          "data": {
            "text/plain": [
              "<tf.Tensor: shape=(), dtype=float32, numpy=9.388815>"
            ]
          },
          "metadata": {},
          "execution_count": 25
        }
      ]
    },
    {
      "cell_type": "markdown",
      "source": [
        "### A larger example"
      ],
      "metadata": {
        "id": "-jb4svgfX3m9"
      }
    },
    {
      "cell_type": "code",
      "source": [
        "# import required libraries \n",
        "import tensorflow as tf\n",
        "import pandas as pd\n",
        "import matplotlib.pyplot as plt"
      ],
      "metadata": {
        "id": "neLJX-QiHUCC"
      },
      "execution_count": 26,
      "outputs": []
    },
    {
      "cell_type": "code",
      "source": [
        "# Read in the insurance dataset\n",
        "insurance = pd.read_csv(\"https://raw.githubusercontent.com/stedy/Machine-Learning-with-R-datasets/master/insurance.csv\")\n",
        "insurance"
      ],
      "metadata": {
        "colab": {
          "base_uri": "https://localhost:8080/",
          "height": 423
        },
        "id": "sNm369wjZcKk",
        "outputId": "fa88cd8a-fefb-420e-dd6f-2665254821a7"
      },
      "execution_count": 27,
      "outputs": [
        {
          "output_type": "execute_result",
          "data": {
            "text/plain": [
              "      age     sex     bmi  children smoker     region      charges\n",
              "0      19  female  27.900         0    yes  southwest  16884.92400\n",
              "1      18    male  33.770         1     no  southeast   1725.55230\n",
              "2      28    male  33.000         3     no  southeast   4449.46200\n",
              "3      33    male  22.705         0     no  northwest  21984.47061\n",
              "4      32    male  28.880         0     no  northwest   3866.85520\n",
              "...   ...     ...     ...       ...    ...        ...          ...\n",
              "1333   50    male  30.970         3     no  northwest  10600.54830\n",
              "1334   18  female  31.920         0     no  northeast   2205.98080\n",
              "1335   18  female  36.850         0     no  southeast   1629.83350\n",
              "1336   21  female  25.800         0     no  southwest   2007.94500\n",
              "1337   61  female  29.070         0    yes  northwest  29141.36030\n",
              "\n",
              "[1338 rows x 7 columns]"
            ],
            "text/html": [
              "\n",
              "  <div id=\"df-d59d0387-cdd9-4c7a-94c3-485f021b9c2f\">\n",
              "    <div class=\"colab-df-container\">\n",
              "      <div>\n",
              "<style scoped>\n",
              "    .dataframe tbody tr th:only-of-type {\n",
              "        vertical-align: middle;\n",
              "    }\n",
              "\n",
              "    .dataframe tbody tr th {\n",
              "        vertical-align: top;\n",
              "    }\n",
              "\n",
              "    .dataframe thead th {\n",
              "        text-align: right;\n",
              "    }\n",
              "</style>\n",
              "<table border=\"1\" class=\"dataframe\">\n",
              "  <thead>\n",
              "    <tr style=\"text-align: right;\">\n",
              "      <th></th>\n",
              "      <th>age</th>\n",
              "      <th>sex</th>\n",
              "      <th>bmi</th>\n",
              "      <th>children</th>\n",
              "      <th>smoker</th>\n",
              "      <th>region</th>\n",
              "      <th>charges</th>\n",
              "    </tr>\n",
              "  </thead>\n",
              "  <tbody>\n",
              "    <tr>\n",
              "      <th>0</th>\n",
              "      <td>19</td>\n",
              "      <td>female</td>\n",
              "      <td>27.900</td>\n",
              "      <td>0</td>\n",
              "      <td>yes</td>\n",
              "      <td>southwest</td>\n",
              "      <td>16884.92400</td>\n",
              "    </tr>\n",
              "    <tr>\n",
              "      <th>1</th>\n",
              "      <td>18</td>\n",
              "      <td>male</td>\n",
              "      <td>33.770</td>\n",
              "      <td>1</td>\n",
              "      <td>no</td>\n",
              "      <td>southeast</td>\n",
              "      <td>1725.55230</td>\n",
              "    </tr>\n",
              "    <tr>\n",
              "      <th>2</th>\n",
              "      <td>28</td>\n",
              "      <td>male</td>\n",
              "      <td>33.000</td>\n",
              "      <td>3</td>\n",
              "      <td>no</td>\n",
              "      <td>southeast</td>\n",
              "      <td>4449.46200</td>\n",
              "    </tr>\n",
              "    <tr>\n",
              "      <th>3</th>\n",
              "      <td>33</td>\n",
              "      <td>male</td>\n",
              "      <td>22.705</td>\n",
              "      <td>0</td>\n",
              "      <td>no</td>\n",
              "      <td>northwest</td>\n",
              "      <td>21984.47061</td>\n",
              "    </tr>\n",
              "    <tr>\n",
              "      <th>4</th>\n",
              "      <td>32</td>\n",
              "      <td>male</td>\n",
              "      <td>28.880</td>\n",
              "      <td>0</td>\n",
              "      <td>no</td>\n",
              "      <td>northwest</td>\n",
              "      <td>3866.85520</td>\n",
              "    </tr>\n",
              "    <tr>\n",
              "      <th>...</th>\n",
              "      <td>...</td>\n",
              "      <td>...</td>\n",
              "      <td>...</td>\n",
              "      <td>...</td>\n",
              "      <td>...</td>\n",
              "      <td>...</td>\n",
              "      <td>...</td>\n",
              "    </tr>\n",
              "    <tr>\n",
              "      <th>1333</th>\n",
              "      <td>50</td>\n",
              "      <td>male</td>\n",
              "      <td>30.970</td>\n",
              "      <td>3</td>\n",
              "      <td>no</td>\n",
              "      <td>northwest</td>\n",
              "      <td>10600.54830</td>\n",
              "    </tr>\n",
              "    <tr>\n",
              "      <th>1334</th>\n",
              "      <td>18</td>\n",
              "      <td>female</td>\n",
              "      <td>31.920</td>\n",
              "      <td>0</td>\n",
              "      <td>no</td>\n",
              "      <td>northeast</td>\n",
              "      <td>2205.98080</td>\n",
              "    </tr>\n",
              "    <tr>\n",
              "      <th>1335</th>\n",
              "      <td>18</td>\n",
              "      <td>female</td>\n",
              "      <td>36.850</td>\n",
              "      <td>0</td>\n",
              "      <td>no</td>\n",
              "      <td>southeast</td>\n",
              "      <td>1629.83350</td>\n",
              "    </tr>\n",
              "    <tr>\n",
              "      <th>1336</th>\n",
              "      <td>21</td>\n",
              "      <td>female</td>\n",
              "      <td>25.800</td>\n",
              "      <td>0</td>\n",
              "      <td>no</td>\n",
              "      <td>southwest</td>\n",
              "      <td>2007.94500</td>\n",
              "    </tr>\n",
              "    <tr>\n",
              "      <th>1337</th>\n",
              "      <td>61</td>\n",
              "      <td>female</td>\n",
              "      <td>29.070</td>\n",
              "      <td>0</td>\n",
              "      <td>yes</td>\n",
              "      <td>northwest</td>\n",
              "      <td>29141.36030</td>\n",
              "    </tr>\n",
              "  </tbody>\n",
              "</table>\n",
              "<p>1338 rows × 7 columns</p>\n",
              "</div>\n",
              "      <button class=\"colab-df-convert\" onclick=\"convertToInteractive('df-d59d0387-cdd9-4c7a-94c3-485f021b9c2f')\"\n",
              "              title=\"Convert this dataframe to an interactive table.\"\n",
              "              style=\"display:none;\">\n",
              "        \n",
              "  <svg xmlns=\"http://www.w3.org/2000/svg\" height=\"24px\"viewBox=\"0 0 24 24\"\n",
              "       width=\"24px\">\n",
              "    <path d=\"M0 0h24v24H0V0z\" fill=\"none\"/>\n",
              "    <path d=\"M18.56 5.44l.94 2.06.94-2.06 2.06-.94-2.06-.94-.94-2.06-.94 2.06-2.06.94zm-11 1L8.5 8.5l.94-2.06 2.06-.94-2.06-.94L8.5 2.5l-.94 2.06-2.06.94zm10 10l.94 2.06.94-2.06 2.06-.94-2.06-.94-.94-2.06-.94 2.06-2.06.94z\"/><path d=\"M17.41 7.96l-1.37-1.37c-.4-.4-.92-.59-1.43-.59-.52 0-1.04.2-1.43.59L10.3 9.45l-7.72 7.72c-.78.78-.78 2.05 0 2.83L4 21.41c.39.39.9.59 1.41.59.51 0 1.02-.2 1.41-.59l7.78-7.78 2.81-2.81c.8-.78.8-2.07 0-2.86zM5.41 20L4 18.59l7.72-7.72 1.47 1.35L5.41 20z\"/>\n",
              "  </svg>\n",
              "      </button>\n",
              "      \n",
              "  <style>\n",
              "    .colab-df-container {\n",
              "      display:flex;\n",
              "      flex-wrap:wrap;\n",
              "      gap: 12px;\n",
              "    }\n",
              "\n",
              "    .colab-df-convert {\n",
              "      background-color: #E8F0FE;\n",
              "      border: none;\n",
              "      border-radius: 50%;\n",
              "      cursor: pointer;\n",
              "      display: none;\n",
              "      fill: #1967D2;\n",
              "      height: 32px;\n",
              "      padding: 0 0 0 0;\n",
              "      width: 32px;\n",
              "    }\n",
              "\n",
              "    .colab-df-convert:hover {\n",
              "      background-color: #E2EBFA;\n",
              "      box-shadow: 0px 1px 2px rgba(60, 64, 67, 0.3), 0px 1px 3px 1px rgba(60, 64, 67, 0.15);\n",
              "      fill: #174EA6;\n",
              "    }\n",
              "\n",
              "    [theme=dark] .colab-df-convert {\n",
              "      background-color: #3B4455;\n",
              "      fill: #D2E3FC;\n",
              "    }\n",
              "\n",
              "    [theme=dark] .colab-df-convert:hover {\n",
              "      background-color: #434B5C;\n",
              "      box-shadow: 0px 1px 3px 1px rgba(0, 0, 0, 0.15);\n",
              "      filter: drop-shadow(0px 1px 2px rgba(0, 0, 0, 0.3));\n",
              "      fill: #FFFFFF;\n",
              "    }\n",
              "  </style>\n",
              "\n",
              "      <script>\n",
              "        const buttonEl =\n",
              "          document.querySelector('#df-d59d0387-cdd9-4c7a-94c3-485f021b9c2f button.colab-df-convert');\n",
              "        buttonEl.style.display =\n",
              "          google.colab.kernel.accessAllowed ? 'block' : 'none';\n",
              "\n",
              "        async function convertToInteractive(key) {\n",
              "          const element = document.querySelector('#df-d59d0387-cdd9-4c7a-94c3-485f021b9c2f');\n",
              "          const dataTable =\n",
              "            await google.colab.kernel.invokeFunction('convertToInteractive',\n",
              "                                                     [key], {});\n",
              "          if (!dataTable) return;\n",
              "\n",
              "          const docLinkHtml = 'Like what you see? Visit the ' +\n",
              "            '<a target=\"_blank\" href=https://colab.research.google.com/notebooks/data_table.ipynb>data table notebook</a>'\n",
              "            + ' to learn more about interactive tables.';\n",
              "          element.innerHTML = '';\n",
              "          dataTable['output_type'] = 'display_data';\n",
              "          await google.colab.output.renderOutput(dataTable, element);\n",
              "          const docLink = document.createElement('div');\n",
              "          docLink.innerHTML = docLinkHtml;\n",
              "          element.appendChild(docLink);\n",
              "        }\n",
              "      </script>\n",
              "    </div>\n",
              "  </div>\n",
              "  "
            ]
          },
          "metadata": {},
          "execution_count": 27
        }
      ]
    },
    {
      "cell_type": "code",
      "source": [
        "# One-hot encoding our DataFrame so it's all numbers\n",
        "insurance_one_hot = pd.get_dummies(insurance)\n",
        "insurance_one_hot.head()"
      ],
      "metadata": {
        "colab": {
          "base_uri": "https://localhost:8080/",
          "height": 206
        },
        "id": "bzqCqigFaUeD",
        "outputId": "ee08291a-24db-48cc-8f1e-a2ebe45e5c86"
      },
      "execution_count": 28,
      "outputs": [
        {
          "output_type": "execute_result",
          "data": {
            "text/plain": [
              "   age     bmi  children      charges  sex_female  sex_male  smoker_no  \\\n",
              "0   19  27.900         0  16884.92400           1         0          0   \n",
              "1   18  33.770         1   1725.55230           0         1          1   \n",
              "2   28  33.000         3   4449.46200           0         1          1   \n",
              "3   33  22.705         0  21984.47061           0         1          1   \n",
              "4   32  28.880         0   3866.85520           0         1          1   \n",
              "\n",
              "   smoker_yes  region_northeast  region_northwest  region_southeast  \\\n",
              "0           1                 0                 0                 0   \n",
              "1           0                 0                 0                 1   \n",
              "2           0                 0                 0                 1   \n",
              "3           0                 0                 1                 0   \n",
              "4           0                 0                 1                 0   \n",
              "\n",
              "   region_southwest  \n",
              "0                 1  \n",
              "1                 0  \n",
              "2                 0  \n",
              "3                 0  \n",
              "4                 0  "
            ],
            "text/html": [
              "\n",
              "  <div id=\"df-66593f08-f694-431d-a45b-d9474d0306f7\">\n",
              "    <div class=\"colab-df-container\">\n",
              "      <div>\n",
              "<style scoped>\n",
              "    .dataframe tbody tr th:only-of-type {\n",
              "        vertical-align: middle;\n",
              "    }\n",
              "\n",
              "    .dataframe tbody tr th {\n",
              "        vertical-align: top;\n",
              "    }\n",
              "\n",
              "    .dataframe thead th {\n",
              "        text-align: right;\n",
              "    }\n",
              "</style>\n",
              "<table border=\"1\" class=\"dataframe\">\n",
              "  <thead>\n",
              "    <tr style=\"text-align: right;\">\n",
              "      <th></th>\n",
              "      <th>age</th>\n",
              "      <th>bmi</th>\n",
              "      <th>children</th>\n",
              "      <th>charges</th>\n",
              "      <th>sex_female</th>\n",
              "      <th>sex_male</th>\n",
              "      <th>smoker_no</th>\n",
              "      <th>smoker_yes</th>\n",
              "      <th>region_northeast</th>\n",
              "      <th>region_northwest</th>\n",
              "      <th>region_southeast</th>\n",
              "      <th>region_southwest</th>\n",
              "    </tr>\n",
              "  </thead>\n",
              "  <tbody>\n",
              "    <tr>\n",
              "      <th>0</th>\n",
              "      <td>19</td>\n",
              "      <td>27.900</td>\n",
              "      <td>0</td>\n",
              "      <td>16884.92400</td>\n",
              "      <td>1</td>\n",
              "      <td>0</td>\n",
              "      <td>0</td>\n",
              "      <td>1</td>\n",
              "      <td>0</td>\n",
              "      <td>0</td>\n",
              "      <td>0</td>\n",
              "      <td>1</td>\n",
              "    </tr>\n",
              "    <tr>\n",
              "      <th>1</th>\n",
              "      <td>18</td>\n",
              "      <td>33.770</td>\n",
              "      <td>1</td>\n",
              "      <td>1725.55230</td>\n",
              "      <td>0</td>\n",
              "      <td>1</td>\n",
              "      <td>1</td>\n",
              "      <td>0</td>\n",
              "      <td>0</td>\n",
              "      <td>0</td>\n",
              "      <td>1</td>\n",
              "      <td>0</td>\n",
              "    </tr>\n",
              "    <tr>\n",
              "      <th>2</th>\n",
              "      <td>28</td>\n",
              "      <td>33.000</td>\n",
              "      <td>3</td>\n",
              "      <td>4449.46200</td>\n",
              "      <td>0</td>\n",
              "      <td>1</td>\n",
              "      <td>1</td>\n",
              "      <td>0</td>\n",
              "      <td>0</td>\n",
              "      <td>0</td>\n",
              "      <td>1</td>\n",
              "      <td>0</td>\n",
              "    </tr>\n",
              "    <tr>\n",
              "      <th>3</th>\n",
              "      <td>33</td>\n",
              "      <td>22.705</td>\n",
              "      <td>0</td>\n",
              "      <td>21984.47061</td>\n",
              "      <td>0</td>\n",
              "      <td>1</td>\n",
              "      <td>1</td>\n",
              "      <td>0</td>\n",
              "      <td>0</td>\n",
              "      <td>1</td>\n",
              "      <td>0</td>\n",
              "      <td>0</td>\n",
              "    </tr>\n",
              "    <tr>\n",
              "      <th>4</th>\n",
              "      <td>32</td>\n",
              "      <td>28.880</td>\n",
              "      <td>0</td>\n",
              "      <td>3866.85520</td>\n",
              "      <td>0</td>\n",
              "      <td>1</td>\n",
              "      <td>1</td>\n",
              "      <td>0</td>\n",
              "      <td>0</td>\n",
              "      <td>1</td>\n",
              "      <td>0</td>\n",
              "      <td>0</td>\n",
              "    </tr>\n",
              "  </tbody>\n",
              "</table>\n",
              "</div>\n",
              "      <button class=\"colab-df-convert\" onclick=\"convertToInteractive('df-66593f08-f694-431d-a45b-d9474d0306f7')\"\n",
              "              title=\"Convert this dataframe to an interactive table.\"\n",
              "              style=\"display:none;\">\n",
              "        \n",
              "  <svg xmlns=\"http://www.w3.org/2000/svg\" height=\"24px\"viewBox=\"0 0 24 24\"\n",
              "       width=\"24px\">\n",
              "    <path d=\"M0 0h24v24H0V0z\" fill=\"none\"/>\n",
              "    <path d=\"M18.56 5.44l.94 2.06.94-2.06 2.06-.94-2.06-.94-.94-2.06-.94 2.06-2.06.94zm-11 1L8.5 8.5l.94-2.06 2.06-.94-2.06-.94L8.5 2.5l-.94 2.06-2.06.94zm10 10l.94 2.06.94-2.06 2.06-.94-2.06-.94-.94-2.06-.94 2.06-2.06.94z\"/><path d=\"M17.41 7.96l-1.37-1.37c-.4-.4-.92-.59-1.43-.59-.52 0-1.04.2-1.43.59L10.3 9.45l-7.72 7.72c-.78.78-.78 2.05 0 2.83L4 21.41c.39.39.9.59 1.41.59.51 0 1.02-.2 1.41-.59l7.78-7.78 2.81-2.81c.8-.78.8-2.07 0-2.86zM5.41 20L4 18.59l7.72-7.72 1.47 1.35L5.41 20z\"/>\n",
              "  </svg>\n",
              "      </button>\n",
              "      \n",
              "  <style>\n",
              "    .colab-df-container {\n",
              "      display:flex;\n",
              "      flex-wrap:wrap;\n",
              "      gap: 12px;\n",
              "    }\n",
              "\n",
              "    .colab-df-convert {\n",
              "      background-color: #E8F0FE;\n",
              "      border: none;\n",
              "      border-radius: 50%;\n",
              "      cursor: pointer;\n",
              "      display: none;\n",
              "      fill: #1967D2;\n",
              "      height: 32px;\n",
              "      padding: 0 0 0 0;\n",
              "      width: 32px;\n",
              "    }\n",
              "\n",
              "    .colab-df-convert:hover {\n",
              "      background-color: #E2EBFA;\n",
              "      box-shadow: 0px 1px 2px rgba(60, 64, 67, 0.3), 0px 1px 3px 1px rgba(60, 64, 67, 0.15);\n",
              "      fill: #174EA6;\n",
              "    }\n",
              "\n",
              "    [theme=dark] .colab-df-convert {\n",
              "      background-color: #3B4455;\n",
              "      fill: #D2E3FC;\n",
              "    }\n",
              "\n",
              "    [theme=dark] .colab-df-convert:hover {\n",
              "      background-color: #434B5C;\n",
              "      box-shadow: 0px 1px 3px 1px rgba(0, 0, 0, 0.15);\n",
              "      filter: drop-shadow(0px 1px 2px rgba(0, 0, 0, 0.3));\n",
              "      fill: #FFFFFF;\n",
              "    }\n",
              "  </style>\n",
              "\n",
              "      <script>\n",
              "        const buttonEl =\n",
              "          document.querySelector('#df-66593f08-f694-431d-a45b-d9474d0306f7 button.colab-df-convert');\n",
              "        buttonEl.style.display =\n",
              "          google.colab.kernel.accessAllowed ? 'block' : 'none';\n",
              "\n",
              "        async function convertToInteractive(key) {\n",
              "          const element = document.querySelector('#df-66593f08-f694-431d-a45b-d9474d0306f7');\n",
              "          const dataTable =\n",
              "            await google.colab.kernel.invokeFunction('convertToInteractive',\n",
              "                                                     [key], {});\n",
              "          if (!dataTable) return;\n",
              "\n",
              "          const docLinkHtml = 'Like what you see? Visit the ' +\n",
              "            '<a target=\"_blank\" href=https://colab.research.google.com/notebooks/data_table.ipynb>data table notebook</a>'\n",
              "            + ' to learn more about interactive tables.';\n",
              "          element.innerHTML = '';\n",
              "          dataTable['output_type'] = 'display_data';\n",
              "          await google.colab.output.renderOutput(dataTable, element);\n",
              "          const docLink = document.createElement('div');\n",
              "          docLink.innerHTML = docLinkHtml;\n",
              "          element.appendChild(docLink);\n",
              "        }\n",
              "      </script>\n",
              "    </div>\n",
              "  </div>\n",
              "  "
            ]
          },
          "metadata": {},
          "execution_count": 28
        }
      ]
    },
    {
      "cell_type": "code",
      "source": [
        "# Create X and y values (features and values)\n",
        "X = insurance_one_hot.drop(\"charges\", axis=1)\n",
        "y = insurance_one_hot[\"charges\"]"
      ],
      "metadata": {
        "id": "hGhH4ILzb3lM"
      },
      "execution_count": 29,
      "outputs": []
    },
    {
      "cell_type": "code",
      "source": [
        "# View X\n",
        "X.head()"
      ],
      "metadata": {
        "colab": {
          "base_uri": "https://localhost:8080/",
          "height": 206
        },
        "id": "jPPiVQlJZhH5",
        "outputId": "9e2f1169-e03a-4516-f086-1d9824f0e7f1"
      },
      "execution_count": 30,
      "outputs": [
        {
          "output_type": "execute_result",
          "data": {
            "text/plain": [
              "   age     bmi  children  sex_female  sex_male  smoker_no  smoker_yes  \\\n",
              "0   19  27.900         0           1         0          0           1   \n",
              "1   18  33.770         1           0         1          1           0   \n",
              "2   28  33.000         3           0         1          1           0   \n",
              "3   33  22.705         0           0         1          1           0   \n",
              "4   32  28.880         0           0         1          1           0   \n",
              "\n",
              "   region_northeast  region_northwest  region_southeast  region_southwest  \n",
              "0                 0                 0                 0                 1  \n",
              "1                 0                 0                 1                 0  \n",
              "2                 0                 0                 1                 0  \n",
              "3                 0                 1                 0                 0  \n",
              "4                 0                 1                 0                 0  "
            ],
            "text/html": [
              "\n",
              "  <div id=\"df-0476fc02-2190-49bd-87ee-9156b601a172\">\n",
              "    <div class=\"colab-df-container\">\n",
              "      <div>\n",
              "<style scoped>\n",
              "    .dataframe tbody tr th:only-of-type {\n",
              "        vertical-align: middle;\n",
              "    }\n",
              "\n",
              "    .dataframe tbody tr th {\n",
              "        vertical-align: top;\n",
              "    }\n",
              "\n",
              "    .dataframe thead th {\n",
              "        text-align: right;\n",
              "    }\n",
              "</style>\n",
              "<table border=\"1\" class=\"dataframe\">\n",
              "  <thead>\n",
              "    <tr style=\"text-align: right;\">\n",
              "      <th></th>\n",
              "      <th>age</th>\n",
              "      <th>bmi</th>\n",
              "      <th>children</th>\n",
              "      <th>sex_female</th>\n",
              "      <th>sex_male</th>\n",
              "      <th>smoker_no</th>\n",
              "      <th>smoker_yes</th>\n",
              "      <th>region_northeast</th>\n",
              "      <th>region_northwest</th>\n",
              "      <th>region_southeast</th>\n",
              "      <th>region_southwest</th>\n",
              "    </tr>\n",
              "  </thead>\n",
              "  <tbody>\n",
              "    <tr>\n",
              "      <th>0</th>\n",
              "      <td>19</td>\n",
              "      <td>27.900</td>\n",
              "      <td>0</td>\n",
              "      <td>1</td>\n",
              "      <td>0</td>\n",
              "      <td>0</td>\n",
              "      <td>1</td>\n",
              "      <td>0</td>\n",
              "      <td>0</td>\n",
              "      <td>0</td>\n",
              "      <td>1</td>\n",
              "    </tr>\n",
              "    <tr>\n",
              "      <th>1</th>\n",
              "      <td>18</td>\n",
              "      <td>33.770</td>\n",
              "      <td>1</td>\n",
              "      <td>0</td>\n",
              "      <td>1</td>\n",
              "      <td>1</td>\n",
              "      <td>0</td>\n",
              "      <td>0</td>\n",
              "      <td>0</td>\n",
              "      <td>1</td>\n",
              "      <td>0</td>\n",
              "    </tr>\n",
              "    <tr>\n",
              "      <th>2</th>\n",
              "      <td>28</td>\n",
              "      <td>33.000</td>\n",
              "      <td>3</td>\n",
              "      <td>0</td>\n",
              "      <td>1</td>\n",
              "      <td>1</td>\n",
              "      <td>0</td>\n",
              "      <td>0</td>\n",
              "      <td>0</td>\n",
              "      <td>1</td>\n",
              "      <td>0</td>\n",
              "    </tr>\n",
              "    <tr>\n",
              "      <th>3</th>\n",
              "      <td>33</td>\n",
              "      <td>22.705</td>\n",
              "      <td>0</td>\n",
              "      <td>0</td>\n",
              "      <td>1</td>\n",
              "      <td>1</td>\n",
              "      <td>0</td>\n",
              "      <td>0</td>\n",
              "      <td>1</td>\n",
              "      <td>0</td>\n",
              "      <td>0</td>\n",
              "    </tr>\n",
              "    <tr>\n",
              "      <th>4</th>\n",
              "      <td>32</td>\n",
              "      <td>28.880</td>\n",
              "      <td>0</td>\n",
              "      <td>0</td>\n",
              "      <td>1</td>\n",
              "      <td>1</td>\n",
              "      <td>0</td>\n",
              "      <td>0</td>\n",
              "      <td>1</td>\n",
              "      <td>0</td>\n",
              "      <td>0</td>\n",
              "    </tr>\n",
              "  </tbody>\n",
              "</table>\n",
              "</div>\n",
              "      <button class=\"colab-df-convert\" onclick=\"convertToInteractive('df-0476fc02-2190-49bd-87ee-9156b601a172')\"\n",
              "              title=\"Convert this dataframe to an interactive table.\"\n",
              "              style=\"display:none;\">\n",
              "        \n",
              "  <svg xmlns=\"http://www.w3.org/2000/svg\" height=\"24px\"viewBox=\"0 0 24 24\"\n",
              "       width=\"24px\">\n",
              "    <path d=\"M0 0h24v24H0V0z\" fill=\"none\"/>\n",
              "    <path d=\"M18.56 5.44l.94 2.06.94-2.06 2.06-.94-2.06-.94-.94-2.06-.94 2.06-2.06.94zm-11 1L8.5 8.5l.94-2.06 2.06-.94-2.06-.94L8.5 2.5l-.94 2.06-2.06.94zm10 10l.94 2.06.94-2.06 2.06-.94-2.06-.94-.94-2.06-.94 2.06-2.06.94z\"/><path d=\"M17.41 7.96l-1.37-1.37c-.4-.4-.92-.59-1.43-.59-.52 0-1.04.2-1.43.59L10.3 9.45l-7.72 7.72c-.78.78-.78 2.05 0 2.83L4 21.41c.39.39.9.59 1.41.59.51 0 1.02-.2 1.41-.59l7.78-7.78 2.81-2.81c.8-.78.8-2.07 0-2.86zM5.41 20L4 18.59l7.72-7.72 1.47 1.35L5.41 20z\"/>\n",
              "  </svg>\n",
              "      </button>\n",
              "      \n",
              "  <style>\n",
              "    .colab-df-container {\n",
              "      display:flex;\n",
              "      flex-wrap:wrap;\n",
              "      gap: 12px;\n",
              "    }\n",
              "\n",
              "    .colab-df-convert {\n",
              "      background-color: #E8F0FE;\n",
              "      border: none;\n",
              "      border-radius: 50%;\n",
              "      cursor: pointer;\n",
              "      display: none;\n",
              "      fill: #1967D2;\n",
              "      height: 32px;\n",
              "      padding: 0 0 0 0;\n",
              "      width: 32px;\n",
              "    }\n",
              "\n",
              "    .colab-df-convert:hover {\n",
              "      background-color: #E2EBFA;\n",
              "      box-shadow: 0px 1px 2px rgba(60, 64, 67, 0.3), 0px 1px 3px 1px rgba(60, 64, 67, 0.15);\n",
              "      fill: #174EA6;\n",
              "    }\n",
              "\n",
              "    [theme=dark] .colab-df-convert {\n",
              "      background-color: #3B4455;\n",
              "      fill: #D2E3FC;\n",
              "    }\n",
              "\n",
              "    [theme=dark] .colab-df-convert:hover {\n",
              "      background-color: #434B5C;\n",
              "      box-shadow: 0px 1px 3px 1px rgba(0, 0, 0, 0.15);\n",
              "      filter: drop-shadow(0px 1px 2px rgba(0, 0, 0, 0.3));\n",
              "      fill: #FFFFFF;\n",
              "    }\n",
              "  </style>\n",
              "\n",
              "      <script>\n",
              "        const buttonEl =\n",
              "          document.querySelector('#df-0476fc02-2190-49bd-87ee-9156b601a172 button.colab-df-convert');\n",
              "        buttonEl.style.display =\n",
              "          google.colab.kernel.accessAllowed ? 'block' : 'none';\n",
              "\n",
              "        async function convertToInteractive(key) {\n",
              "          const element = document.querySelector('#df-0476fc02-2190-49bd-87ee-9156b601a172');\n",
              "          const dataTable =\n",
              "            await google.colab.kernel.invokeFunction('convertToInteractive',\n",
              "                                                     [key], {});\n",
              "          if (!dataTable) return;\n",
              "\n",
              "          const docLinkHtml = 'Like what you see? Visit the ' +\n",
              "            '<a target=\"_blank\" href=https://colab.research.google.com/notebooks/data_table.ipynb>data table notebook</a>'\n",
              "            + ' to learn more about interactive tables.';\n",
              "          element.innerHTML = '';\n",
              "          dataTable['output_type'] = 'display_data';\n",
              "          await google.colab.output.renderOutput(dataTable, element);\n",
              "          const docLink = document.createElement('div');\n",
              "          docLink.innerHTML = docLinkHtml;\n",
              "          element.appendChild(docLink);\n",
              "        }\n",
              "      </script>\n",
              "    </div>\n",
              "  </div>\n",
              "  "
            ]
          },
          "metadata": {},
          "execution_count": 30
        }
      ]
    },
    {
      "cell_type": "code",
      "source": [
        "# View y\n",
        "y.head()"
      ],
      "metadata": {
        "colab": {
          "base_uri": "https://localhost:8080/"
        },
        "id": "pgTqZ_ytcuol",
        "outputId": "b9af7185-eb91-487b-9a8a-7af8fdb0dfde"
      },
      "execution_count": 31,
      "outputs": [
        {
          "output_type": "execute_result",
          "data": {
            "text/plain": [
              "0    16884.92400\n",
              "1     1725.55230\n",
              "2     4449.46200\n",
              "3    21984.47061\n",
              "4     3866.85520\n",
              "Name: charges, dtype: float64"
            ]
          },
          "metadata": {},
          "execution_count": 31
        }
      ]
    },
    {
      "cell_type": "code",
      "source": [
        "# Create training and test sets\n",
        "from sklearn.model_selection import train_test_split\n",
        "\n",
        "X_train, X_test, y_train, y_test = train_test_split(X, y, test_size=0.2, random_state=42)\n",
        "len(X), len(X_train), len(X_test)"
      ],
      "metadata": {
        "colab": {
          "base_uri": "https://localhost:8080/"
        },
        "id": "-7Wn7OC8cyBu",
        "outputId": "d252ed09-4169-49cc-ad49-c22e08cfbbeb"
      },
      "execution_count": 32,
      "outputs": [
        {
          "output_type": "execute_result",
          "data": {
            "text/plain": [
              "(1338, 1070, 268)"
            ]
          },
          "metadata": {},
          "execution_count": 32
        }
      ]
    },
    {
      "cell_type": "code",
      "source": [
        "# Build a neural network }\n",
        "tf.random.set_seed(42)\n",
        "\n",
        "# 1. Create a model\n",
        "insurance_model = tf.keras.Sequential([\n",
        "    tf.keras.layers.Dense(10),\n",
        "    tf.keras.layers.Dense(1)\n",
        "])\n",
        "\n",
        "# 2. Compile the model\n",
        "insurance_model.compile(loss=tf.keras.losses.mae,\n",
        "                        optimizer=tf.keras.optimizers.SGD(),\n",
        "                        metrics=[\"mae\"])\n",
        "\n",
        "# 3. Fit the model\n",
        "insurance_model.fit(X_train, y_train, epochs=100)"
      ],
      "metadata": {
        "colab": {
          "base_uri": "https://localhost:8080/"
        },
        "id": "Ofg9vBhud8LZ",
        "outputId": "40350294-2816-4bae-fd28-5da8e7a71113"
      },
      "execution_count": 33,
      "outputs": [
        {
          "output_type": "stream",
          "name": "stdout",
          "text": [
            "Epoch 1/100\n",
            "34/34 [==============================] - 1s 4ms/step - loss: 8637.0996 - mae: 8637.0996\n",
            "Epoch 2/100\n",
            "34/34 [==============================] - 0s 4ms/step - loss: 7886.7769 - mae: 7886.7769\n",
            "Epoch 3/100\n",
            "34/34 [==============================] - 0s 2ms/step - loss: 7558.1475 - mae: 7558.1475\n",
            "Epoch 4/100\n",
            "34/34 [==============================] - 0s 3ms/step - loss: 7792.0220 - mae: 7792.0220\n",
            "Epoch 5/100\n",
            "34/34 [==============================] - 0s 3ms/step - loss: 7748.3892 - mae: 7748.3892\n",
            "Epoch 6/100\n",
            "34/34 [==============================] - 0s 2ms/step - loss: 7595.3940 - mae: 7595.3940\n",
            "Epoch 7/100\n",
            "34/34 [==============================] - 0s 3ms/step - loss: 7589.9849 - mae: 7589.9849\n",
            "Epoch 8/100\n",
            "34/34 [==============================] - 0s 2ms/step - loss: 7698.5591 - mae: 7698.5591\n",
            "Epoch 9/100\n",
            "34/34 [==============================] - 0s 3ms/step - loss: 7496.7788 - mae: 7496.7788\n",
            "Epoch 10/100\n",
            "34/34 [==============================] - 0s 3ms/step - loss: 7493.1743 - mae: 7493.1743\n",
            "Epoch 11/100\n",
            "34/34 [==============================] - 0s 3ms/step - loss: 7769.7314 - mae: 7769.7314\n",
            "Epoch 12/100\n",
            "34/34 [==============================] - 0s 3ms/step - loss: 7706.9033 - mae: 7706.9033\n",
            "Epoch 13/100\n",
            "34/34 [==============================] - 0s 3ms/step - loss: 7687.7227 - mae: 7687.7227\n",
            "Epoch 14/100\n",
            "34/34 [==============================] - 0s 2ms/step - loss: 7689.8999 - mae: 7689.8999\n",
            "Epoch 15/100\n",
            "34/34 [==============================] - 0s 2ms/step - loss: 7393.5322 - mae: 7393.5322\n",
            "Epoch 16/100\n",
            "34/34 [==============================] - 0s 3ms/step - loss: 7780.6982 - mae: 7780.6982\n",
            "Epoch 17/100\n",
            "34/34 [==============================] - 0s 3ms/step - loss: 7578.5093 - mae: 7578.5093\n",
            "Epoch 18/100\n",
            "34/34 [==============================] - 0s 3ms/step - loss: 7750.8350 - mae: 7750.8350\n",
            "Epoch 19/100\n",
            "34/34 [==============================] - 0s 6ms/step - loss: 7739.2134 - mae: 7739.2134\n",
            "Epoch 20/100\n",
            "34/34 [==============================] - 0s 4ms/step - loss: 7875.0635 - mae: 7875.0635\n",
            "Epoch 21/100\n",
            "34/34 [==============================] - 0s 3ms/step - loss: 7466.6768 - mae: 7466.6768\n",
            "Epoch 22/100\n",
            "34/34 [==============================] - 0s 2ms/step - loss: 7941.2310 - mae: 7941.2310\n",
            "Epoch 23/100\n",
            "34/34 [==============================] - 0s 3ms/step - loss: 7640.2725 - mae: 7640.2725\n",
            "Epoch 24/100\n",
            "34/34 [==============================] - 0s 3ms/step - loss: 7539.2656 - mae: 7539.2656\n",
            "Epoch 25/100\n",
            "34/34 [==============================] - 0s 4ms/step - loss: 7619.9658 - mae: 7619.9658\n",
            "Epoch 26/100\n",
            "34/34 [==============================] - 0s 3ms/step - loss: 7644.1709 - mae: 7644.1709\n",
            "Epoch 27/100\n",
            "34/34 [==============================] - 0s 5ms/step - loss: 7709.0361 - mae: 7709.0361\n",
            "Epoch 28/100\n",
            "34/34 [==============================] - 0s 4ms/step - loss: 7366.8662 - mae: 7366.8662\n",
            "Epoch 29/100\n",
            "34/34 [==============================] - 0s 4ms/step - loss: 7444.3135 - mae: 7444.3135\n",
            "Epoch 30/100\n",
            "34/34 [==============================] - 0s 4ms/step - loss: 7616.4087 - mae: 7616.4087\n",
            "Epoch 31/100\n",
            "34/34 [==============================] - 0s 4ms/step - loss: 7686.3853 - mae: 7686.3853\n",
            "Epoch 32/100\n",
            "34/34 [==============================] - 0s 3ms/step - loss: 7548.0981 - mae: 7548.0981\n",
            "Epoch 33/100\n",
            "34/34 [==============================] - 0s 4ms/step - loss: 7501.5532 - mae: 7501.5532\n",
            "Epoch 34/100\n",
            "34/34 [==============================] - 0s 2ms/step - loss: 7363.4155 - mae: 7363.4155\n",
            "Epoch 35/100\n",
            "34/34 [==============================] - 0s 3ms/step - loss: 7295.4468 - mae: 7295.4468\n",
            "Epoch 36/100\n",
            "34/34 [==============================] - 0s 3ms/step - loss: 7569.8813 - mae: 7569.8813\n",
            "Epoch 37/100\n",
            "34/34 [==============================] - 0s 3ms/step - loss: 7548.2002 - mae: 7548.2002\n",
            "Epoch 38/100\n",
            "34/34 [==============================] - 0s 2ms/step - loss: 7424.3979 - mae: 7424.3979\n",
            "Epoch 39/100\n",
            "34/34 [==============================] - 0s 3ms/step - loss: 7529.7739 - mae: 7529.7739\n",
            "Epoch 40/100\n",
            "34/34 [==============================] - 0s 3ms/step - loss: 7467.3232 - mae: 7467.3232\n",
            "Epoch 41/100\n",
            "34/34 [==============================] - 0s 4ms/step - loss: 7635.9282 - mae: 7635.9282\n",
            "Epoch 42/100\n",
            "34/34 [==============================] - 0s 3ms/step - loss: 7536.8398 - mae: 7536.8398\n",
            "Epoch 43/100\n",
            "34/34 [==============================] - 0s 4ms/step - loss: 7616.5845 - mae: 7616.5845\n",
            "Epoch 44/100\n",
            "34/34 [==============================] - 0s 3ms/step - loss: 7439.4932 - mae: 7439.4932\n",
            "Epoch 45/100\n",
            "34/34 [==============================] - 0s 4ms/step - loss: 7538.0156 - mae: 7538.0156\n",
            "Epoch 46/100\n",
            "34/34 [==============================] - 0s 5ms/step - loss: 7415.1460 - mae: 7415.1460\n",
            "Epoch 47/100\n",
            "34/34 [==============================] - 0s 7ms/step - loss: 7420.6938 - mae: 7420.6938\n",
            "Epoch 48/100\n",
            "34/34 [==============================] - 0s 4ms/step - loss: 7509.9829 - mae: 7509.9829\n",
            "Epoch 49/100\n",
            "34/34 [==============================] - 0s 6ms/step - loss: 7541.1123 - mae: 7541.1123\n",
            "Epoch 50/100\n",
            "34/34 [==============================] - 0s 6ms/step - loss: 7467.8633 - mae: 7467.8633\n",
            "Epoch 51/100\n",
            "34/34 [==============================] - 0s 4ms/step - loss: 7389.3545 - mae: 7389.3545\n",
            "Epoch 52/100\n",
            "34/34 [==============================] - 0s 3ms/step - loss: 7499.7749 - mae: 7499.7749\n",
            "Epoch 53/100\n",
            "34/34 [==============================] - 0s 3ms/step - loss: 7523.9282 - mae: 7523.9282\n",
            "Epoch 54/100\n",
            "34/34 [==============================] - 0s 2ms/step - loss: 7243.3120 - mae: 7243.3120\n",
            "Epoch 55/100\n",
            "34/34 [==============================] - 0s 3ms/step - loss: 7429.5854 - mae: 7429.5854\n",
            "Epoch 56/100\n",
            "34/34 [==============================] - 0s 2ms/step - loss: 7313.4004 - mae: 7313.4004\n",
            "Epoch 57/100\n",
            "34/34 [==============================] - 0s 3ms/step - loss: 7526.3887 - mae: 7526.3887\n",
            "Epoch 58/100\n",
            "34/34 [==============================] - 0s 2ms/step - loss: 7542.2661 - mae: 7542.2661\n",
            "Epoch 59/100\n",
            "34/34 [==============================] - 0s 5ms/step - loss: 7576.9277 - mae: 7576.9277\n",
            "Epoch 60/100\n",
            "34/34 [==============================] - 0s 3ms/step - loss: 7546.4058 - mae: 7546.4058\n",
            "Epoch 61/100\n",
            "34/34 [==============================] - 0s 3ms/step - loss: 7351.2261 - mae: 7351.2261\n",
            "Epoch 62/100\n",
            "34/34 [==============================] - 0s 4ms/step - loss: 7302.1436 - mae: 7302.1436\n",
            "Epoch 63/100\n",
            "34/34 [==============================] - 0s 7ms/step - loss: 7393.0874 - mae: 7393.0874\n",
            "Epoch 64/100\n",
            "34/34 [==============================] - 0s 5ms/step - loss: 7442.2886 - mae: 7442.2886\n",
            "Epoch 65/100\n",
            "34/34 [==============================] - 0s 4ms/step - loss: 7492.6782 - mae: 7492.6782\n",
            "Epoch 66/100\n",
            "34/34 [==============================] - 0s 5ms/step - loss: 7561.9165 - mae: 7561.9165\n",
            "Epoch 67/100\n",
            "34/34 [==============================] - 0s 6ms/step - loss: 7340.5137 - mae: 7340.5137\n",
            "Epoch 68/100\n",
            "34/34 [==============================] - 0s 6ms/step - loss: 7496.0850 - mae: 7496.0850\n",
            "Epoch 69/100\n",
            "34/34 [==============================] - 0s 4ms/step - loss: 7617.0298 - mae: 7617.0298\n",
            "Epoch 70/100\n",
            "34/34 [==============================] - 0s 5ms/step - loss: 7641.1958 - mae: 7641.1958\n",
            "Epoch 71/100\n",
            "34/34 [==============================] - 0s 9ms/step - loss: 7084.2744 - mae: 7084.2744\n",
            "Epoch 72/100\n",
            "34/34 [==============================] - 0s 7ms/step - loss: 7240.4907 - mae: 7240.4907\n",
            "Epoch 73/100\n",
            "34/34 [==============================] - 0s 4ms/step - loss: 7283.4883 - mae: 7283.4883\n",
            "Epoch 74/100\n",
            "34/34 [==============================] - 0s 8ms/step - loss: 7335.5063 - mae: 7335.5063\n",
            "Epoch 75/100\n",
            "34/34 [==============================] - 0s 6ms/step - loss: 7275.6392 - mae: 7275.6392\n",
            "Epoch 76/100\n",
            "34/34 [==============================] - 0s 9ms/step - loss: 7313.1855 - mae: 7313.1855\n",
            "Epoch 77/100\n",
            "34/34 [==============================] - 0s 5ms/step - loss: 7485.7578 - mae: 7485.7578\n",
            "Epoch 78/100\n",
            "34/34 [==============================] - 0s 6ms/step - loss: 7352.2798 - mae: 7352.2798\n",
            "Epoch 79/100\n",
            "34/34 [==============================] - 0s 5ms/step - loss: 7520.5703 - mae: 7520.5703\n",
            "Epoch 80/100\n",
            "34/34 [==============================] - 0s 4ms/step - loss: 7279.3784 - mae: 7279.3784\n",
            "Epoch 81/100\n",
            "34/34 [==============================] - 0s 4ms/step - loss: 7273.8477 - mae: 7273.8477\n",
            "Epoch 82/100\n",
            "34/34 [==============================] - 0s 4ms/step - loss: 7176.5205 - mae: 7176.5205\n",
            "Epoch 83/100\n",
            "34/34 [==============================] - 0s 3ms/step - loss: 7425.6289 - mae: 7425.6289\n",
            "Epoch 84/100\n",
            "34/34 [==============================] - 0s 4ms/step - loss: 7403.1289 - mae: 7403.1289\n",
            "Epoch 85/100\n",
            "34/34 [==============================] - 0s 4ms/step - loss: 7356.0093 - mae: 7356.0093\n",
            "Epoch 86/100\n",
            "34/34 [==============================] - 0s 3ms/step - loss: 7484.7271 - mae: 7484.7271\n",
            "Epoch 87/100\n",
            "34/34 [==============================] - 0s 4ms/step - loss: 7217.6079 - mae: 7217.6079\n",
            "Epoch 88/100\n",
            "34/34 [==============================] - 0s 4ms/step - loss: 7261.0000 - mae: 7261.0000\n",
            "Epoch 89/100\n",
            "34/34 [==============================] - 0s 3ms/step - loss: 7134.1553 - mae: 7134.1553\n",
            "Epoch 90/100\n",
            "34/34 [==============================] - 0s 4ms/step - loss: 7083.4351 - mae: 7083.4351\n",
            "Epoch 91/100\n",
            "34/34 [==============================] - 0s 2ms/step - loss: 7254.1782 - mae: 7254.1782\n",
            "Epoch 92/100\n",
            "34/34 [==============================] - 0s 7ms/step - loss: 7268.7456 - mae: 7268.7456\n",
            "Epoch 93/100\n",
            "34/34 [==============================] - 0s 3ms/step - loss: 7470.5225 - mae: 7470.5225\n",
            "Epoch 94/100\n",
            "34/34 [==============================] - 0s 3ms/step - loss: 7210.9541 - mae: 7210.9541\n",
            "Epoch 95/100\n",
            "34/34 [==============================] - 0s 4ms/step - loss: 7395.6807 - mae: 7395.6807\n",
            "Epoch 96/100\n",
            "34/34 [==============================] - 0s 6ms/step - loss: 7328.0884 - mae: 7328.0884\n",
            "Epoch 97/100\n",
            "34/34 [==============================] - 0s 5ms/step - loss: 7230.4375 - mae: 7230.4375\n",
            "Epoch 98/100\n",
            "34/34 [==============================] - 0s 3ms/step - loss: 7261.3936 - mae: 7261.3936\n",
            "Epoch 99/100\n",
            "34/34 [==============================] - 0s 4ms/step - loss: 7342.5684 - mae: 7342.5684\n",
            "Epoch 100/100\n",
            "34/34 [==============================] - 0s 3ms/step - loss: 7106.1709 - mae: 7106.1709\n"
          ]
        },
        {
          "output_type": "execute_result",
          "data": {
            "text/plain": [
              "<keras.callbacks.History at 0x7fb708046040>"
            ]
          },
          "metadata": {},
          "execution_count": 33
        }
      ]
    },
    {
      "cell_type": "code",
      "source": [
        "# Check the results on the test data\n",
        "insurance_model.evaluate(X_test, y_test)"
      ],
      "metadata": {
        "colab": {
          "base_uri": "https://localhost:8080/"
        },
        "id": "7t-w2O8Ie-_S",
        "outputId": "bd1a9ec5-9c07-414a-d18d-9bbdc8e3abe7"
      },
      "execution_count": 34,
      "outputs": [
        {
          "output_type": "stream",
          "name": "stdout",
          "text": [
            "9/9 [==============================] - 0s 2ms/step - loss: 7023.3286 - mae: 7023.3286\n"
          ]
        },
        {
          "output_type": "execute_result",
          "data": {
            "text/plain": [
              "[7023.32861328125, 7023.32861328125]"
            ]
          },
          "metadata": {},
          "execution_count": 34
        }
      ]
    },
    {
      "cell_type": "code",
      "source": [
        "y_train.median(), y_train.mean()"
      ],
      "metadata": {
        "colab": {
          "base_uri": "https://localhost:8080/"
        },
        "id": "7bKpkYJVfXwg",
        "outputId": "479ccb4d-0256-41f8-ddc1-9a5f9143ce3e"
      },
      "execution_count": 35,
      "outputs": [
        {
          "output_type": "execute_result",
          "data": {
            "text/plain": [
              "(9575.4421, 13346.089736364485)"
            ]
          },
          "metadata": {},
          "execution_count": 35
        }
      ]
    },
    {
      "cell_type": "markdown",
      "source": [
        "### Right now it looks like our model isn't performing too well...let's try and improve it!\n",
        "\n",
        "To (try) improve our model, we'll run 2 experiments:\n",
        "1. Add an extra layer with more hidden units\n",
        "2. Train for longer"
      ],
      "metadata": {
        "id": "QXz82cTVldkD"
      }
    },
    {
      "cell_type": "code",
      "source": [
        "# set random seed\n",
        "tf.random.set_seed(42)\n",
        "\n",
        "# 1. Create the model\n",
        "insurance_model_2 = tf.keras.Sequential([\n",
        "    tf.keras.layers.Dense(100),\n",
        "    tf.keras.layers.Dense(10),\n",
        "    tf.keras.layers.Dense(1)\n",
        "])\n",
        "\n",
        "# 2. Compile the model\n",
        "insurance_model_2.compile(loss=tf.keras.losses.mae,\n",
        "                          optimizer=tf.keras.optimizers.Adam(),\n",
        "                          metrics=['mae'])\n",
        "\n",
        "# 3. Fit the model\n",
        "insurance_model_2.fit(X_train, y_train, epochs=100, verbose=0)"
      ],
      "metadata": {
        "colab": {
          "base_uri": "https://localhost:8080/"
        },
        "id": "x-Pw0v-WfyHF",
        "outputId": "1c38ff87-e9e1-4742-f2b6-ff0a7fbee07c"
      },
      "execution_count": 36,
      "outputs": [
        {
          "output_type": "execute_result",
          "data": {
            "text/plain": [
              "<keras.callbacks.History at 0x7fb70d03a460>"
            ]
          },
          "metadata": {},
          "execution_count": 36
        }
      ]
    },
    {
      "cell_type": "code",
      "source": [
        "# Evaluate our second model\n",
        "insurance_model_2.evaluate(X_test, y_test)"
      ],
      "metadata": {
        "colab": {
          "base_uri": "https://localhost:8080/"
        },
        "id": "u0rg1bxvm3WB",
        "outputId": "e8ac4c76-9f8e-42fc-9659-b37bb766f09c"
      },
      "execution_count": 37,
      "outputs": [
        {
          "output_type": "stream",
          "name": "stdout",
          "text": [
            "9/9 [==============================] - 0s 3ms/step - loss: 4924.4956 - mae: 4924.4956\n"
          ]
        },
        {
          "output_type": "execute_result",
          "data": {
            "text/plain": [
              "[4924.49560546875, 4924.49560546875]"
            ]
          },
          "metadata": {},
          "execution_count": 37
        }
      ]
    },
    {
      "cell_type": "code",
      "source": [
        "# set random seed\n",
        "tf.random.set_seed(42)\n",
        "\n",
        "# 1. Create the model\n",
        "insurance_model_3 = tf.keras.Sequential([\n",
        "    tf.keras.layers.Dense(100),\n",
        "    tf.keras.layers.Dense(10),\n",
        "    tf.keras.layers.Dense(1)\n",
        "])\n",
        "\n",
        "# 2. Compile the model\n",
        "insurance_model_3.compile(loss=tf.keras.losses.mae,\n",
        "                          optimizer=tf.keras.optimizers.Adam(),\n",
        "                          metrics=['mae'])\n",
        "\n",
        "# 3. Fit the model\n",
        "history = insurance_model_3.fit(X_train, \n",
        "                      y_train, \n",
        "                      epochs=200, \n",
        "                      verbose=0)"
      ],
      "metadata": {
        "id": "y8QuCZCOnqP-"
      },
      "execution_count": 38,
      "outputs": []
    },
    {
      "cell_type": "code",
      "source": [
        "# Evaluate our third model\n",
        "insurance_model_3.evaluate(X_test, y_test)"
      ],
      "metadata": {
        "colab": {
          "base_uri": "https://localhost:8080/"
        },
        "id": "G_nd6Nc0oCQU",
        "outputId": "67cacbf2-b10e-4cc6-8ea5-f8fd96a9ce68"
      },
      "execution_count": 39,
      "outputs": [
        {
          "output_type": "stream",
          "name": "stdout",
          "text": [
            "9/9 [==============================] - 0s 3ms/step - loss: 3488.7854 - mae: 3488.7856\n"
          ]
        },
        {
          "output_type": "execute_result",
          "data": {
            "text/plain": [
              "[3488.785400390625, 3488.78564453125]"
            ]
          },
          "metadata": {},
          "execution_count": 39
        }
      ]
    },
    {
      "cell_type": "code",
      "source": [
        "# Plot history (also known as loss curve or training curve)\n",
        "pd.DataFrame(history.history).plot()\n",
        "plt.xlabel(\"epochs\")\n",
        "plt.ylabel(\"loss\")\n",
        "plt.show()"
      ],
      "metadata": {
        "colab": {
          "base_uri": "https://localhost:8080/",
          "height": 283
        },
        "id": "mEqpTZFPoTLW",
        "outputId": "f1a70319-7767-4e6d-bee3-48e36cfb7862"
      },
      "execution_count": 40,
      "outputs": [
        {
          "output_type": "execute_result",
          "data": {
            "text/plain": [
              "<matplotlib.axes._subplots.AxesSubplot at 0x7fb70d67d430>"
            ]
          },
          "metadata": {},
          "execution_count": 40
        },
        {
          "output_type": "display_data",
          "data": {
            "text/plain": [
              "<Figure size 432x288 with 1 Axes>"
            ],
            "image/png": "[encoded data removed]"
          },
          "metadata": {
            "needs_background": "light"
          }
        }
      ]
    },
    {
      "cell_type": "markdown",
      "source": [
        "### Preprocessing data (Normalization and Standardization)"
      ],
      "metadata": {
        "id": "Z8WbXzUeeKc-"
      }
    },
    {
      "cell_type": "code",
      "source": [
        "import pandas as pd\n",
        "import matplotlib.pyplot as plt\n",
        "import tensorflow as tf\n",
        "\n",
        "# Read in the insurance dataframe\n",
        "insurance = pd.read_csv(\"https://raw.githubusercontent.com/stedy/Machine-Learning-with-R-datasets/master/insurance.csv\")\n",
        "insurance"
      ],
      "metadata": {
        "colab": {
          "base_uri": "https://localhost:8080/",
          "height": 423
        },
        "id": "Tq-Skua-eKKr",
        "outputId": "2817cded-b467-4471-b639-fa6294785ae7"
      },
      "execution_count": 41,
      "outputs": [
        {
          "output_type": "execute_result",
          "data": {
            "text/plain": [
              "      age     sex     bmi  children smoker     region      charges\n",
              "0      19  female  27.900         0    yes  southwest  16884.92400\n",
              "1      18    male  33.770         1     no  southeast   1725.55230\n",
              "2      28    male  33.000         3     no  southeast   4449.46200\n",
              "3      33    male  22.705         0     no  northwest  21984.47061\n",
              "4      32    male  28.880         0     no  northwest   3866.85520\n",
              "...   ...     ...     ...       ...    ...        ...          ...\n",
              "1333   50    male  30.970         3     no  northwest  10600.54830\n",
              "1334   18  female  31.920         0     no  northeast   2205.98080\n",
              "1335   18  female  36.850         0     no  southeast   1629.83350\n",
              "1336   21  female  25.800         0     no  southwest   2007.94500\n",
              "1337   61  female  29.070         0    yes  northwest  29141.36030\n",
              "\n",
              "[1338 rows x 7 columns]"
            ],
            "text/html": [
              "\n",
              "  <div id=\"df-f7bf1822-92c6-4858-b354-601ba481d11d\">\n",
              "    <div class=\"colab-df-container\">\n",
              "      <div>\n",
              "<style scoped>\n",
              "    .dataframe tbody tr th:only-of-type {\n",
              "        vertical-align: middle;\n",
              "    }\n",
              "\n",
              "    .dataframe tbody tr th {\n",
              "        vertical-align: top;\n",
              "    }\n",
              "\n",
              "    .dataframe thead th {\n",
              "        text-align: right;\n",
              "    }\n",
              "</style>\n",
              "<table border=\"1\" class=\"dataframe\">\n",
              "  <thead>\n",
              "    <tr style=\"text-align: right;\">\n",
              "      <th></th>\n",
              "      <th>age</th>\n",
              "      <th>sex</th>\n",
              "      <th>bmi</th>\n",
              "      <th>children</th>\n",
              "      <th>smoker</th>\n",
              "      <th>region</th>\n",
              "      <th>charges</th>\n",
              "    </tr>\n",
              "  </thead>\n",
              "  <tbody>\n",
              "    <tr>\n",
              "      <th>0</th>\n",
              "      <td>19</td>\n",
              "      <td>female</td>\n",
              "      <td>27.900</td>\n",
              "      <td>0</td>\n",
              "      <td>yes</td>\n",
              "      <td>southwest</td>\n",
              "      <td>16884.92400</td>\n",
              "    </tr>\n",
              "    <tr>\n",
              "      <th>1</th>\n",
              "      <td>18</td>\n",
              "      <td>male</td>\n",
              "      <td>33.770</td>\n",
              "      <td>1</td>\n",
              "      <td>no</td>\n",
              "      <td>southeast</td>\n",
              "      <td>1725.55230</td>\n",
              "    </tr>\n",
              "    <tr>\n",
              "      <th>2</th>\n",
              "      <td>28</td>\n",
              "      <td>male</td>\n",
              "      <td>33.000</td>\n",
              "      <td>3</td>\n",
              "      <td>no</td>\n",
              "      <td>southeast</td>\n",
              "      <td>4449.46200</td>\n",
              "    </tr>\n",
              "    <tr>\n",
              "      <th>3</th>\n",
              "      <td>33</td>\n",
              "      <td>male</td>\n",
              "      <td>22.705</td>\n",
              "      <td>0</td>\n",
              "      <td>no</td>\n",
              "      <td>northwest</td>\n",
              "      <td>21984.47061</td>\n",
              "    </tr>\n",
              "    <tr>\n",
              "      <th>4</th>\n",
              "      <td>32</td>\n",
              "      <td>male</td>\n",
              "      <td>28.880</td>\n",
              "      <td>0</td>\n",
              "      <td>no</td>\n",
              "      <td>northwest</td>\n",
              "      <td>3866.85520</td>\n",
              "    </tr>\n",
              "    <tr>\n",
              "      <th>...</th>\n",
              "      <td>...</td>\n",
              "      <td>...</td>\n",
              "      <td>...</td>\n",
              "      <td>...</td>\n",
              "      <td>...</td>\n",
              "      <td>...</td>\n",
              "      <td>...</td>\n",
              "    </tr>\n",
              "    <tr>\n",
              "      <th>1333</th>\n",
              "      <td>50</td>\n",
              "      <td>male</td>\n",
              "      <td>30.970</td>\n",
              "      <td>3</td>\n",
              "      <td>no</td>\n",
              "      <td>northwest</td>\n",
              "      <td>10600.54830</td>\n",
              "    </tr>\n",
              "    <tr>\n",
              "      <th>1334</th>\n",
              "      <td>18</td>\n",
              "      <td>female</td>\n",
              "      <td>31.920</td>\n",
              "      <td>0</td>\n",
              "      <td>no</td>\n",
              "      <td>northeast</td>\n",
              "      <td>2205.98080</td>\n",
              "    </tr>\n",
              "    <tr>\n",
              "      <th>1335</th>\n",
              "      <td>18</td>\n",
              "      <td>female</td>\n",
              "      <td>36.850</td>\n",
              "      <td>0</td>\n",
              "      <td>no</td>\n",
              "      <td>southeast</td>\n",
              "      <td>1629.83350</td>\n",
              "    </tr>\n",
              "    <tr>\n",
              "      <th>1336</th>\n",
              "      <td>21</td>\n",
              "      <td>female</td>\n",
              "      <td>25.800</td>\n",
              "      <td>0</td>\n",
              "      <td>no</td>\n",
              "      <td>southwest</td>\n",
              "      <td>2007.94500</td>\n",
              "    </tr>\n",
              "    <tr>\n",
              "      <th>1337</th>\n",
              "      <td>61</td>\n",
              "      <td>female</td>\n",
              "      <td>29.070</td>\n",
              "      <td>0</td>\n",
              "      <td>yes</td>\n",
              "      <td>northwest</td>\n",
              "      <td>29141.36030</td>\n",
              "    </tr>\n",
              "  </tbody>\n",
              "</table>\n",
              "<p>1338 rows × 7 columns</p>\n",
              "</div>\n",
              "      <button class=\"colab-df-convert\" onclick=\"convertToInteractive('df-f7bf1822-92c6-4858-b354-601ba481d11d')\"\n",
              "              title=\"Convert this dataframe to an interactive table.\"\n",
              "              style=\"display:none;\">\n",
              "        \n",
              "  <svg xmlns=\"http://www.w3.org/2000/svg\" height=\"24px\"viewBox=\"0 0 24 24\"\n",
              "       width=\"24px\">\n",
              "    <path d=\"M0 0h24v24H0V0z\" fill=\"none\"/>\n",
              "    <path d=\"M18.56 5.44l.94 2.06.94-2.06 2.06-.94-2.06-.94-.94-2.06-.94 2.06-2.06.94zm-11 1L8.5 8.5l.94-2.06 2.06-.94-2.06-.94L8.5 2.5l-.94 2.06-2.06.94zm10 10l.94 2.06.94-2.06 2.06-.94-2.06-.94-.94-2.06-.94 2.06-2.06.94z\"/><path d=\"M17.41 7.96l-1.37-1.37c-.4-.4-.92-.59-1.43-.59-.52 0-1.04.2-1.43.59L10.3 9.45l-7.72 7.72c-.78.78-.78 2.05 0 2.83L4 21.41c.39.39.9.59 1.41.59.51 0 1.02-.2 1.41-.59l7.78-7.78 2.81-2.81c.8-.78.8-2.07 0-2.86zM5.41 20L4 18.59l7.72-7.72 1.47 1.35L5.41 20z\"/>\n",
              "  </svg>\n",
              "      </button>\n",
              "      \n",
              "  <style>\n",
              "    .colab-df-container {\n",
              "      display:flex;\n",
              "      flex-wrap:wrap;\n",
              "      gap: 12px;\n",
              "    }\n",
              "\n",
              "    .colab-df-convert {\n",
              "      background-color: #E8F0FE;\n",
              "      border: none;\n",
              "      border-radius: 50%;\n",
              "      cursor: pointer;\n",
              "      display: none;\n",
              "      fill: #1967D2;\n",
              "      height: 32px;\n",
              "      padding: 0 0 0 0;\n",
              "      width: 32px;\n",
              "    }\n",
              "\n",
              "    .colab-df-convert:hover {\n",
              "      background-color: #E2EBFA;\n",
              "      box-shadow: 0px 1px 2px rgba(60, 64, 67, 0.3), 0px 1px 3px 1px rgba(60, 64, 67, 0.15);\n",
              "      fill: #174EA6;\n",
              "    }\n",
              "\n",
              "    [theme=dark] .colab-df-convert {\n",
              "      background-color: #3B4455;\n",
              "      fill: #D2E3FC;\n",
              "    }\n",
              "\n",
              "    [theme=dark] .colab-df-convert:hover {\n",
              "      background-color: #434B5C;\n",
              "      box-shadow: 0px 1px 3px 1px rgba(0, 0, 0, 0.15);\n",
              "      filter: drop-shadow(0px 1px 2px rgba(0, 0, 0, 0.3));\n",
              "      fill: #FFFFFF;\n",
              "    }\n",
              "  </style>\n",
              "\n",
              "      <script>\n",
              "        const buttonEl =\n",
              "          document.querySelector('#df-f7bf1822-92c6-4858-b354-601ba481d11d button.colab-df-convert');\n",
              "        buttonEl.style.display =\n",
              "          google.colab.kernel.accessAllowed ? 'block' : 'none';\n",
              "\n",
              "        async function convertToInteractive(key) {\n",
              "          const element = document.querySelector('#df-f7bf1822-92c6-4858-b354-601ba481d11d');\n",
              "          const dataTable =\n",
              "            await google.colab.kernel.invokeFunction('convertToInteractive',\n",
              "                                                     [key], {});\n",
              "          if (!dataTable) return;\n",
              "\n",
              "          const docLinkHtml = 'Like what you see? Visit the ' +\n",
              "            '<a target=\"_blank\" href=https://colab.research.google.com/notebooks/data_table.ipynb>data table notebook</a>'\n",
              "            + ' to learn more about interactive tables.';\n",
              "          element.innerHTML = '';\n",
              "          dataTable['output_type'] = 'display_data';\n",
              "          await google.colab.output.renderOutput(dataTable, element);\n",
              "          const docLink = document.createElement('div');\n",
              "          docLink.innerHTML = docLinkHtml;\n",
              "          element.appendChild(docLink);\n",
              "        }\n",
              "      </script>\n",
              "    </div>\n",
              "  </div>\n",
              "  "
            ]
          },
          "metadata": {},
          "execution_count": 41
        }
      ]
    },
    {
      "cell_type": "code",
      "source": [
        "from sklearn.compose import make_column_transformer\n",
        "from sklearn.preprocessing import MinMaxScaler, OneHotEncoder\n",
        "from sklearn.model_selection import train_test_split\n",
        "\n",
        "# Create a column transformer\n",
        "ct = make_column_transformer(\n",
        "    (MinMaxScaler(), [\"age\", \"bmi\", \"children\"]), \n",
        "    (OneHotEncoder(handle_unknown=\"ignore\"), [\"sex\", \"smoker\", \"region\"])\n",
        ")\n",
        "\n",
        "# Create X and y values\n",
        "X = insurance.drop(\"charges\", axis=1)\n",
        "y = insurance[\"charges\"]\n",
        "\n",
        "# Build our train and test sets\n",
        "X_train, X_test, y_train, y_test = train_test_split(X, y, test_size=0.2, random_state=42)\n",
        "\n",
        "# Fit the column transformer to our training data\n",
        "ct.fit(X_train)\n",
        "\n",
        "# Transform training and test data with normalization (MinMaxScaler) and OneHotEncoder\n",
        "X_train_normal = ct.transform(X_train)\n",
        "X_test_normal = ct.transform(X_test)"
      ],
      "metadata": {
        "id": "-A4-ioclp7Q-"
      },
      "execution_count": 42,
      "outputs": []
    },
    {
      "cell_type": "code",
      "source": [
        "# Whats does our data look like now?\n",
        "X_train.loc[0]"
      ],
      "metadata": {
        "colab": {
          "base_uri": "https://localhost:8080/"
        },
        "id": "OdR5A67Xp8Kw",
        "outputId": "706d0bad-4db4-4b06-a5a2-a2c09d4a58fc"
      },
      "execution_count": 49,
      "outputs": [
        {
          "output_type": "execute_result",
          "data": {
            "text/plain": [
              "age                19\n",
              "sex            female\n",
              "bmi              27.9\n",
              "children            0\n",
              "smoker            yes\n",
              "region      southwest\n",
              "Name: 0, dtype: object"
            ]
          },
          "metadata": {},
          "execution_count": 49
        }
      ]
    },
    {
      "cell_type": "code",
      "source": [
        "X_train_normal[0]"
      ],
      "metadata": {
        "colab": {
          "base_uri": "https://localhost:8080/"
        },
        "id": "ZQ9838RmqGLA",
        "outputId": "947764d3-7377-451d-ac3f-e2cbea89c096"
      },
      "execution_count": 50,
      "outputs": [
        {
          "output_type": "execute_result",
          "data": {
            "text/plain": [
              "array([0.60869565, 0.10734463, 0.4       , 1.        , 0.        ,\n",
              "       1.        , 0.        , 0.        , 1.        , 0.        ,\n",
              "       0.        ])"
            ]
          },
          "metadata": {},
          "execution_count": 50
        }
      ]
    },
    {
      "cell_type": "code",
      "source": [
        "X_train.shape, X_train_normal.shape"
      ],
      "metadata": {
        "colab": {
          "base_uri": "https://localhost:8080/"
        },
        "id": "OjLZdeuPqrhB",
        "outputId": "4f7ea85a-6f4f-49a7-bac3-274579771bb5"
      },
      "execution_count": 51,
      "outputs": [
        {
          "output_type": "execute_result",
          "data": {
            "text/plain": [
              "((1070, 6), (1070, 11))"
            ]
          },
          "metadata": {},
          "execution_count": 51
        }
      ]
    },
    {
      "cell_type": "code",
      "source": [
        "# Build a neural network model to fit on our normalizaed data\n",
        "tf.random.set_seed(42)\n",
        "\n",
        "callback = tf.keras.callbacks.EarlyStopping(monitor='loss', patience=2)\n",
        "# This callback will stop the training when there is no improvement in\n",
        "# the loss for three consecutive epochs.\n",
        "\n",
        "# 1. Create the model\n",
        "insurance_model_4 = tf.keras.Sequential([\n",
        "    tf.keras.layers.Dense(100),\n",
        "    tf.keras.layers.Dense(10),\n",
        "    tf.keras.layers.Dense(1)\n",
        "])\n",
        "\n",
        "# 2. Compile the model\n",
        "insurance_model_4.compile(loss=tf.keras.losses.mae,\n",
        "                          optimizer=tf.keras.optimizers.Adam(),\n",
        "                          metrics=[\"mae\"])\n",
        "\n",
        "# 3. Fit the model\n",
        "history = insurance_model_4.fit(X_train_normal, \n",
        "                      y_train, \n",
        "                      epochs=100,\n",
        "                      callbacks=[callback])"
      ],
      "metadata": {
        "colab": {
          "base_uri": "https://localhost:8080/"
        },
        "id": "1N2QXMOwq80L",
        "outputId": "4ad924e9-e2d7-4aa1-98dd-3005ceaf793c"
      },
      "execution_count": 68,
      "outputs": [
        {
          "output_type": "stream",
          "name": "stdout",
          "text": [
            "Epoch 1/100\n",
            "34/34 [==============================] - 1s 3ms/step - loss: 13342.6494 - mae: 13342.6494\n",
            "Epoch 2/100\n",
            "34/34 [==============================] - 0s 3ms/step - loss: 13333.4785 - mae: 13333.4785\n",
            "Epoch 3/100\n",
            "34/34 [==============================] - 0s 2ms/step - loss: 13312.0234 - mae: 13312.0234\n",
            "Epoch 4/100\n",
            "34/34 [==============================] - 0s 3ms/step - loss: 13267.7930 - mae: 13267.7930\n",
            "Epoch 5/100\n",
            "34/34 [==============================] - 0s 2ms/step - loss: 13189.5830 - mae: 13189.5830\n",
            "Epoch 6/100\n",
            "34/34 [==============================] - 0s 3ms/step - loss: 13066.4502 - mae: 13066.4502\n",
            "Epoch 7/100\n",
            "34/34 [==============================] - 0s 3ms/step - loss: 12888.1953 - mae: 12888.1953\n",
            "Epoch 8/100\n",
            "34/34 [==============================] - 0s 2ms/step - loss: 12644.6523 - mae: 12644.6523\n",
            "Epoch 9/100\n",
            "34/34 [==============================] - 0s 3ms/step - loss: 12325.5469 - mae: 12325.5469\n",
            "Epoch 10/100\n",
            "34/34 [==============================] - 0s 2ms/step - loss: 11925.9658 - mae: 11925.9658\n",
            "Epoch 11/100\n",
            "34/34 [==============================] - 0s 3ms/step - loss: 11454.3350 - mae: 11454.3350\n",
            "Epoch 12/100\n",
            "34/34 [==============================] - 0s 2ms/step - loss: 10949.8076 - mae: 10949.8076\n",
            "Epoch 13/100\n",
            "34/34 [==============================] - 0s 2ms/step - loss: 10448.9404 - mae: 10448.9404\n",
            "Epoch 14/100\n",
            "34/34 [==============================] - 0s 3ms/step - loss: 9951.6250 - mae: 9951.6250\n",
            "Epoch 15/100\n",
            "34/34 [==============================] - 0s 2ms/step - loss: 9482.7422 - mae: 9482.7422\n",
            "Epoch 16/100\n",
            "34/34 [==============================] - 0s 2ms/step - loss: 9066.7461 - mae: 9066.7461\n",
            "Epoch 17/100\n",
            "34/34 [==============================] - 0s 2ms/step - loss: 8721.9854 - mae: 8721.9854\n",
            "Epoch 18/100\n",
            "34/34 [==============================] - 0s 2ms/step - loss: 8441.2002 - mae: 8441.2002\n",
            "Epoch 19/100\n",
            "34/34 [==============================] - 0s 2ms/step - loss: 8227.5117 - mae: 8227.5117\n",
            "Epoch 20/100\n",
            "34/34 [==============================] - 0s 2ms/step - loss: 8081.9775 - mae: 8081.9775\n",
            "Epoch 21/100\n",
            "34/34 [==============================] - 0s 2ms/step - loss: 7973.8945 - mae: 7973.8945\n",
            "Epoch 22/100\n",
            "34/34 [==============================] - 0s 2ms/step - loss: 7899.1597 - mae: 7899.1597\n",
            "Epoch 23/100\n",
            "34/34 [==============================] - 0s 2ms/step - loss: 7840.3906 - mae: 7840.3906\n",
            "Epoch 24/100\n",
            "34/34 [==============================] - 0s 3ms/step - loss: 7787.9619 - mae: 7787.9619\n",
            "Epoch 25/100\n",
            "34/34 [==============================] - 0s 3ms/step - loss: 7749.2622 - mae: 7749.2622\n",
            "Epoch 26/100\n",
            "34/34 [==============================] - 0s 3ms/step - loss: 7697.9600 - mae: 7697.9600\n",
            "Epoch 27/100\n",
            "34/34 [==============================] - 0s 3ms/step - loss: 7656.0269 - mae: 7656.0269\n",
            "Epoch 28/100\n",
            "34/34 [==============================] - 0s 2ms/step - loss: 7613.4780 - mae: 7613.4780\n",
            "Epoch 29/100\n",
            "34/34 [==============================] - 0s 2ms/step - loss: 7570.9482 - mae: 7570.9482\n",
            "Epoch 30/100\n",
            "34/34 [==============================] - 0s 2ms/step - loss: 7527.4175 - mae: 7527.4175\n",
            "Epoch 31/100\n",
            "34/34 [==============================] - 0s 2ms/step - loss: 7483.5947 - mae: 7483.5947\n",
            "Epoch 32/100\n",
            "34/34 [==============================] - 0s 2ms/step - loss: 7439.4424 - mae: 7439.4424\n",
            "Epoch 33/100\n",
            "34/34 [==============================] - 0s 3ms/step - loss: 7395.0547 - mae: 7395.0547\n",
            "Epoch 34/100\n",
            "34/34 [==============================] - 0s 2ms/step - loss: 7346.8120 - mae: 7346.8120\n",
            "Epoch 35/100\n",
            "34/34 [==============================] - 0s 2ms/step - loss: 7300.0488 - mae: 7300.0488\n",
            "Epoch 36/100\n",
            "34/34 [==============================] - 0s 2ms/step - loss: 7249.8452 - mae: 7249.8452\n",
            "Epoch 37/100\n",
            "34/34 [==============================] - 0s 2ms/step - loss: 7199.5303 - mae: 7199.5303\n",
            "Epoch 38/100\n",
            "34/34 [==============================] - 0s 2ms/step - loss: 7148.4805 - mae: 7148.4805\n",
            "Epoch 39/100\n",
            "34/34 [==============================] - 0s 2ms/step - loss: 7093.6650 - mae: 7093.6650\n",
            "Epoch 40/100\n",
            "34/34 [==============================] - 0s 2ms/step - loss: 7038.1797 - mae: 7038.1797\n",
            "Epoch 41/100\n",
            "34/34 [==============================] - 0s 2ms/step - loss: 6981.7393 - mae: 6981.7393\n",
            "Epoch 42/100\n",
            "34/34 [==============================] - 0s 2ms/step - loss: 6922.7847 - mae: 6922.7847\n",
            "Epoch 43/100\n",
            "34/34 [==============================] - 0s 2ms/step - loss: 6860.1724 - mae: 6860.1724\n",
            "Epoch 44/100\n",
            "34/34 [==============================] - 0s 2ms/step - loss: 6793.7969 - mae: 6793.7969\n",
            "Epoch 45/100\n",
            "34/34 [==============================] - 0s 2ms/step - loss: 6726.6201 - mae: 6726.6201\n",
            "Epoch 46/100\n",
            "34/34 [==============================] - 0s 2ms/step - loss: 6657.4683 - mae: 6657.4683\n",
            "Epoch 47/100\n",
            "34/34 [==============================] - 0s 2ms/step - loss: 6586.3086 - mae: 6586.3086\n",
            "Epoch 48/100\n",
            "34/34 [==============================] - 0s 2ms/step - loss: 6507.5063 - mae: 6507.5063\n",
            "Epoch 49/100\n",
            "34/34 [==============================] - 0s 2ms/step - loss: 6428.6021 - mae: 6428.6021\n",
            "Epoch 50/100\n",
            "34/34 [==============================] - 0s 2ms/step - loss: 6342.7100 - mae: 6342.7100\n",
            "Epoch 51/100\n",
            "34/34 [==============================] - 0s 2ms/step - loss: 6258.0718 - mae: 6258.0718\n",
            "Epoch 52/100\n",
            "34/34 [==============================] - 0s 2ms/step - loss: 6164.7046 - mae: 6164.7046\n",
            "Epoch 53/100\n",
            "34/34 [==============================] - 0s 2ms/step - loss: 6068.6748 - mae: 6068.6748\n",
            "Epoch 54/100\n",
            "34/34 [==============================] - 0s 2ms/step - loss: 5970.0981 - mae: 5970.0981\n",
            "Epoch 55/100\n",
            "34/34 [==============================] - 0s 2ms/step - loss: 5862.5625 - mae: 5862.5625\n",
            "Epoch 56/100\n",
            "34/34 [==============================] - 0s 2ms/step - loss: 5753.9526 - mae: 5753.9526\n",
            "Epoch 57/100\n",
            "34/34 [==============================] - 0s 2ms/step - loss: 5638.0942 - mae: 5638.0942\n",
            "Epoch 58/100\n",
            "34/34 [==============================] - 0s 2ms/step - loss: 5519.8687 - mae: 5519.8687\n",
            "Epoch 59/100\n",
            "34/34 [==============================] - 0s 2ms/step - loss: 5401.3198 - mae: 5401.3198\n",
            "Epoch 60/100\n",
            "34/34 [==============================] - 0s 2ms/step - loss: 5277.3506 - mae: 5277.3506\n",
            "Epoch 61/100\n",
            "34/34 [==============================] - 0s 2ms/step - loss: 5149.7637 - mae: 5149.7637\n",
            "Epoch 62/100\n",
            "34/34 [==============================] - 0s 2ms/step - loss: 5019.3535 - mae: 5019.3535\n",
            "Epoch 63/100\n",
            "34/34 [==============================] - 0s 2ms/step - loss: 4889.6865 - mae: 4889.6865\n",
            "Epoch 64/100\n",
            "34/34 [==============================] - 0s 2ms/step - loss: 4756.8560 - mae: 4756.8560\n",
            "Epoch 65/100\n",
            "34/34 [==============================] - 0s 2ms/step - loss: 4629.4370 - mae: 4629.4370\n",
            "Epoch 66/100\n",
            "34/34 [==============================] - 0s 2ms/step - loss: 4503.5991 - mae: 4503.5991\n",
            "Epoch 67/100\n",
            "34/34 [==============================] - 0s 2ms/step - loss: 4392.9922 - mae: 4392.9922\n",
            "Epoch 68/100\n",
            "34/34 [==============================] - 0s 2ms/step - loss: 4284.3862 - mae: 4284.3862\n",
            "Epoch 69/100\n",
            "34/34 [==============================] - 0s 2ms/step - loss: 4182.6182 - mae: 4182.6182\n",
            "Epoch 70/100\n",
            "34/34 [==============================] - 0s 2ms/step - loss: 4089.5725 - mae: 4089.5725\n",
            "Epoch 71/100\n",
            "34/34 [==============================] - 0s 2ms/step - loss: 4003.3896 - mae: 4003.3896\n",
            "Epoch 72/100\n",
            "34/34 [==============================] - 0s 3ms/step - loss: 3929.0093 - mae: 3929.0093\n",
            "Epoch 73/100\n",
            "34/34 [==============================] - 0s 2ms/step - loss: 3866.3110 - mae: 3866.3110\n",
            "Epoch 74/100\n",
            "34/34 [==============================] - 0s 3ms/step - loss: 3813.7144 - mae: 3813.7144\n",
            "Epoch 75/100\n",
            "34/34 [==============================] - 0s 2ms/step - loss: 3773.0317 - mae: 3773.0317\n",
            "Epoch 76/100\n",
            "34/34 [==============================] - 0s 3ms/step - loss: 3744.1995 - mae: 3744.1995\n",
            "Epoch 77/100\n",
            "34/34 [==============================] - 0s 3ms/step - loss: 3719.6870 - mae: 3719.6870\n",
            "Epoch 78/100\n",
            "34/34 [==============================] - 0s 2ms/step - loss: 3702.9109 - mae: 3702.9109\n",
            "Epoch 79/100\n",
            "34/34 [==============================] - 0s 3ms/step - loss: 3691.8787 - mae: 3691.8787\n",
            "Epoch 80/100\n",
            "34/34 [==============================] - 0s 2ms/step - loss: 3682.8350 - mae: 3682.8350\n",
            "Epoch 81/100\n",
            "34/34 [==============================] - 0s 3ms/step - loss: 3676.9763 - mae: 3676.9763\n",
            "Epoch 82/100\n",
            "34/34 [==============================] - 0s 2ms/step - loss: 3673.9492 - mae: 3673.9492\n",
            "Epoch 83/100\n",
            "34/34 [==============================] - 0s 3ms/step - loss: 3667.8452 - mae: 3667.8452\n",
            "Epoch 84/100\n",
            "34/34 [==============================] - 0s 3ms/step - loss: 3664.5757 - mae: 3664.5757\n",
            "Epoch 85/100\n",
            "34/34 [==============================] - 0s 3ms/step - loss: 3661.8562 - mae: 3661.8562\n",
            "Epoch 86/100\n",
            "34/34 [==============================] - 0s 2ms/step - loss: 3660.3044 - mae: 3660.3044\n",
            "Epoch 87/100\n",
            "34/34 [==============================] - 0s 3ms/step - loss: 3657.5137 - mae: 3657.5137\n",
            "Epoch 88/100\n",
            "34/34 [==============================] - 0s 2ms/step - loss: 3655.2200 - mae: 3655.2200\n",
            "Epoch 89/100\n",
            "34/34 [==============================] - 0s 2ms/step - loss: 3653.8831 - mae: 3653.8831\n",
            "Epoch 90/100\n",
            "34/34 [==============================] - 0s 3ms/step - loss: 3652.0198 - mae: 3652.0198\n",
            "Epoch 91/100\n",
            "34/34 [==============================] - 0s 2ms/step - loss: 3648.9990 - mae: 3648.9990\n",
            "Epoch 92/100\n",
            "34/34 [==============================] - 0s 2ms/step - loss: 3648.4460 - mae: 3648.4460\n",
            "Epoch 93/100\n",
            "34/34 [==============================] - 0s 3ms/step - loss: 3646.2300 - mae: 3646.2300\n",
            "Epoch 94/100\n",
            "34/34 [==============================] - 0s 3ms/step - loss: 3644.4377 - mae: 3644.4377\n",
            "Epoch 95/100\n",
            "34/34 [==============================] - 0s 3ms/step - loss: 3645.8772 - mae: 3645.8772\n",
            "Epoch 96/100\n",
            "34/34 [==============================] - 0s 2ms/step - loss: 3642.2576 - mae: 3642.2576\n",
            "Epoch 97/100\n",
            "34/34 [==============================] - 0s 3ms/step - loss: 3640.1189 - mae: 3640.1189\n",
            "Epoch 98/100\n",
            "34/34 [==============================] - 0s 2ms/step - loss: 3638.0647 - mae: 3638.0647\n",
            "Epoch 99/100\n",
            "34/34 [==============================] - 0s 2ms/step - loss: 3637.2051 - mae: 3637.2051\n",
            "Epoch 100/100\n",
            "34/34 [==============================] - 0s 3ms/step - loss: 3636.1707 - mae: 3636.1707\n"
          ]
        }
      ]
    },
    {
      "cell_type": "code",
      "source": [
        "# Evaluate our model trained on normalized data\n",
        "insurance_model_4.evaluate(X_test_normal, y_test)"
      ],
      "metadata": {
        "colab": {
          "base_uri": "https://localhost:8080/"
        },
        "id": "Ogiv3EVasYKv",
        "outputId": "43bd9052-107f-41d0-9a92-e82da1603bc4"
      },
      "execution_count": 66,
      "outputs": [
        {
          "output_type": "stream",
          "name": "stdout",
          "text": [
            "9/9 [==============================] - 0s 3ms/step - loss: 3438.7844 - mae: 3438.7844\n"
          ]
        },
        {
          "output_type": "execute_result",
          "data": {
            "text/plain": [
              "[3438.784423828125, 3438.784423828125]"
            ]
          },
          "metadata": {},
          "execution_count": 66
        }
      ]
    },
    {
      "cell_type": "code",
      "source": [
        "pd.DataFrame(history.history).plot()\n",
        "plt.xlabel(\"epochs\")\n",
        "plt.ylabel(\"loss\")\n",
        "plt.show()"
      ],
      "metadata": {
        "colab": {
          "base_uri": "https://localhost:8080/",
          "height": 279
        },
        "id": "4RDQ6jNps23W",
        "outputId": "a3dbd732-fb27-424b-b039-89affd36bcb9"
      },
      "execution_count": 67,
      "outputs": [
        {
          "output_type": "display_data",
          "data": {
            "text/plain": [
              "<Figure size 432x288 with 1 Axes>"
            ],
            "image/png": "[encoded data removed]"
          },
          "metadata": {
            "needs_background": "light"
          }
        }
      ]
    },
    {
      "cell_type": "code",
      "source": [
        "# Build a neural network model to fit on our normalizaed data\n",
        "tf.random.set_seed(42)\n",
        "\n",
        "callback = tf.keras.callbacks.EarlyStopping(monitor='loss', patience=2)\n",
        "# This callback will stop the training when there is no improvement in\n",
        "# the loss for three consecutive epochs.\n",
        "\n",
        "# 1. Create the model\n",
        "insurance_model_5 = tf.keras.Sequential([\n",
        "    tf.keras.layers.Dense(100),\n",
        "    tf.keras.layers.Dense(100),\n",
        "    tf.keras.layers.Dense(100),\n",
        "    tf.keras.layers.Dense(1)\n",
        "])\n",
        "\n",
        "# 2. Compile the model\n",
        "insurance_model_5.compile(loss=tf.keras.losses.mae,\n",
        "                          optimizer=tf.keras.optimizers.RMSprop(),\n",
        "                          metrics=[\"mae\"])\n",
        "\n",
        "# 3. Fit the model\n",
        "history_5 = insurance_model_5.fit(X_train_normal, \n",
        "                      y_train, \n",
        "                      epochs=100,\n",
        "                      callbacks=[callback])"
      ],
      "metadata": {
        "colab": {
          "base_uri": "https://localhost:8080/"
        },
        "id": "z9NzhjZoweLz",
        "outputId": "1a003650-df1c-46fb-bb2b-3f7105707c8d"
      },
      "execution_count": 70,
      "outputs": [
        {
          "output_type": "stream",
          "name": "stdout",
          "text": [
            "Epoch 1/100\n",
            "34/34 [==============================] - 2s 4ms/step - loss: 13258.6006 - mae: 13258.6006\n",
            "Epoch 2/100\n",
            "34/34 [==============================] - 0s 4ms/step - loss: 12529.9756 - mae: 12529.9756\n",
            "Epoch 3/100\n",
            "34/34 [==============================] - 0s 5ms/step - loss: 10673.1230 - mae: 10673.1230\n",
            "Epoch 4/100\n",
            "34/34 [==============================] - 0s 4ms/step - loss: 8634.8506 - mae: 8634.8506\n",
            "Epoch 5/100\n",
            "34/34 [==============================] - 0s 4ms/step - loss: 7931.8652 - mae: 7931.8652\n",
            "Epoch 6/100\n",
            "34/34 [==============================] - 0s 2ms/step - loss: 7744.9214 - mae: 7744.9214\n",
            "Epoch 7/100\n",
            "34/34 [==============================] - 0s 2ms/step - loss: 7535.0298 - mae: 7535.0298\n",
            "Epoch 8/100\n",
            "34/34 [==============================] - 0s 2ms/step - loss: 7307.9663 - mae: 7307.9663\n",
            "Epoch 9/100\n",
            "34/34 [==============================] - 0s 2ms/step - loss: 7034.7412 - mae: 7034.7412\n",
            "Epoch 10/100\n",
            "34/34 [==============================] - 0s 2ms/step - loss: 6717.8579 - mae: 6717.8579\n",
            "Epoch 11/100\n",
            "34/34 [==============================] - 0s 2ms/step - loss: 6342.4604 - mae: 6342.4604\n",
            "Epoch 12/100\n",
            "34/34 [==============================] - 0s 3ms/step - loss: 5833.0752 - mae: 5833.0752\n",
            "Epoch 13/100\n",
            "34/34 [==============================] - 0s 2ms/step - loss: 5167.8726 - mae: 5167.8726\n",
            "Epoch 14/100\n",
            "34/34 [==============================] - 0s 2ms/step - loss: 4430.4185 - mae: 4430.4185\n",
            "Epoch 15/100\n",
            "34/34 [==============================] - 0s 2ms/step - loss: 3892.5334 - mae: 3892.5334\n",
            "Epoch 16/100\n",
            "34/34 [==============================] - 0s 2ms/step - loss: 3700.2405 - mae: 3700.2405\n",
            "Epoch 17/100\n",
            "34/34 [==============================] - 0s 2ms/step - loss: 3670.2063 - mae: 3670.2063\n",
            "Epoch 18/100\n",
            "34/34 [==============================] - 0s 2ms/step - loss: 3656.5291 - mae: 3656.5291\n",
            "Epoch 19/100\n",
            "34/34 [==============================] - 0s 2ms/step - loss: 3641.7854 - mae: 3641.7854\n",
            "Epoch 20/100\n",
            "34/34 [==============================] - 0s 2ms/step - loss: 3635.0769 - mae: 3635.0769\n",
            "Epoch 21/100\n",
            "34/34 [==============================] - 0s 3ms/step - loss: 3619.4832 - mae: 3619.4832\n",
            "Epoch 22/100\n",
            "34/34 [==============================] - 0s 2ms/step - loss: 3611.7634 - mae: 3611.7634\n",
            "Epoch 23/100\n",
            "34/34 [==============================] - 0s 2ms/step - loss: 3595.7417 - mae: 3595.7417\n",
            "Epoch 24/100\n",
            "34/34 [==============================] - 0s 2ms/step - loss: 3583.5913 - mae: 3583.5913\n",
            "Epoch 25/100\n",
            "34/34 [==============================] - 0s 2ms/step - loss: 3568.7996 - mae: 3568.7996\n",
            "Epoch 26/100\n",
            "34/34 [==============================] - 0s 2ms/step - loss: 3571.5986 - mae: 3571.5986\n",
            "Epoch 27/100\n",
            "34/34 [==============================] - 0s 2ms/step - loss: 3558.5688 - mae: 3558.5688\n",
            "Epoch 28/100\n",
            "34/34 [==============================] - 0s 2ms/step - loss: 3546.1321 - mae: 3546.1321\n",
            "Epoch 29/100\n",
            "34/34 [==============================] - 0s 2ms/step - loss: 3536.3625 - mae: 3536.3625\n",
            "Epoch 30/100\n",
            "34/34 [==============================] - 0s 2ms/step - loss: 3536.6121 - mae: 3536.6121\n",
            "Epoch 31/100\n",
            "34/34 [==============================] - 0s 2ms/step - loss: 3532.3494 - mae: 3532.3494\n",
            "Epoch 32/100\n",
            "34/34 [==============================] - 0s 2ms/step - loss: 3518.1423 - mae: 3518.1423\n",
            "Epoch 33/100\n",
            "34/34 [==============================] - 0s 2ms/step - loss: 3520.4995 - mae: 3520.4995\n",
            "Epoch 34/100\n",
            "34/34 [==============================] - 0s 2ms/step - loss: 3505.4597 - mae: 3505.4597\n",
            "Epoch 35/100\n",
            "34/34 [==============================] - 0s 2ms/step - loss: 3500.4053 - mae: 3500.4053\n",
            "Epoch 36/100\n",
            "34/34 [==============================] - 0s 2ms/step - loss: 3505.5518 - mae: 3505.5518\n",
            "Epoch 37/100\n",
            "34/34 [==============================] - 0s 3ms/step - loss: 3511.8650 - mae: 3511.8650\n"
          ]
        }
      ]
    },
    {
      "cell_type": "code",
      "source": [
        "insurance_model_5.evaluate(X_test_normal, y_test)"
      ],
      "metadata": {
        "colab": {
          "base_uri": "https://localhost:8080/"
        },
        "id": "bicSeCnywviW",
        "outputId": "28c0056d-ac48-4e2a-c6af-76c606a97215"
      },
      "execution_count": 71,
      "outputs": [
        {
          "output_type": "stream",
          "name": "stdout",
          "text": [
            "9/9 [==============================] - 0s 2ms/step - loss: 3162.3352 - mae: 3162.3352\n"
          ]
        },
        {
          "output_type": "execute_result",
          "data": {
            "text/plain": [
              "[3162.335205078125, 3162.335205078125]"
            ]
          },
          "metadata": {},
          "execution_count": 71
        }
      ]
    },
    {
      "cell_type": "code",
      "source": [
        "pd.DataFrame(history_5.history).plot()\n",
        "plt.xlabel(\"epochs\")\n",
        "plt.ylabel(\"loss\")\n",
        "plt.show()"
      ],
      "metadata": {
        "colab": {
          "base_uri": "https://localhost:8080/",
          "height": 279
        },
        "id": "GmRftyClxF0W",
        "outputId": "4744c559-7a4d-4e21-ed6d-f3010ffcb126"
      },
      "execution_count": 72,
      "outputs": [
        {
          "output_type": "display_data",
          "data": {
            "text/plain": [
              "<Figure size 432x288 with 1 Axes>"
            ],
            "image/png": "[encoded data removed]"
          },
          "metadata": {
            "needs_background": "light"
          }
        }
      ]
    }
  ]
}